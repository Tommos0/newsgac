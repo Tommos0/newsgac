{
 "cells": [
  {
   "cell_type": "code",
   "execution_count": 4,
   "metadata": {
    "collapsed": false
   },
   "outputs": [
    {
     "data": {
      "text/plain": [
       "[{'_id': u'test@test.com',\n  'created': datetime.datetime(2018, 10, 2, 11, 9, 49, 775000),\n  'name': u'Test',\n  'password': '$pbkdf2-sha512$25000$FOLcG0MoJYTwPgegNOacEw$P/sWBFr6dyStAZJ3SSe91EeHma6VyPI.3H7FpMabkKuxFv7zU51LQqXccvlSLwxbg6UIQBucbEc4ur2KTGFTTg',\n  'surname': u'User',\n  'updated': datetime.datetime(2018, 10, 5, 14, 6, 1, 417000)}]"
      ]
     },
     "execution_count": 4,
     "metadata": {},
     "output_type": "execute_result"
    }
   ],
   "source": [
    "from newsgac import database\n",
    "from newsgac.users.models import User\n",
    "from newsgac.common.utils import model_to_dict\n",
    "\n",
    "[model_to_dict(user) for user in User.objects.all()]"
   ]
  },
  {
   "cell_type": "code",
   "execution_count": null,
   "metadata": {},
   "outputs": [],
   "source": []
  }
 ],
 "metadata": {},
 "nbformat": 4,
 "nbformat_minor": 0
}
