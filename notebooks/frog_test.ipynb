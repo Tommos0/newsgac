{
 "cells": [
  {
   "cell_type": "code",
   "execution_count": 159,
   "metadata": {},
   "outputs": [
    {
     "name": "stdout",
     "output_type": "stream",
     "text": [
      "[nltk_data] Downloading package punkt to /home/tom/nltk_data...\n",
      "[nltk_data]   Package punkt is already up-to-date!\n"
     ]
    }
   ],
   "source": [
    "from newsgac import database\n",
    "from newsgac import config\n",
    "from newsgac.data_sources import DataSource\n",
    "from newsgac.pipelines import Pipeline\n",
    "from newsgac.nlp_tools.models.frog import Frog\n",
    "from newsgac.nlp_tools.tasks import frog_process, frogclient\n",
    "from pynlpl.clients.frogclient import FrogClient\n",
    "import pandas\n",
    "import nltk\n",
    "nltk.download('punkt')\n",
    "frogclient = FrogClient(\n",
    "            config.frog_hostname,\n",
    "            config.frog_port,\n",
    "            returnall=True,\n",
    "            timeout=1800.0,\n",
    "        )"
   ]
  },
  {
   "cell_type": "code",
   "execution_count": 2,
   "metadata": {},
   "outputs": [
    {
     "data": {
      "text/plain": [
       "[u'NBGS Training', u'NBGS Testing', u'nbgs testing4training']"
      ]
     },
     "execution_count": 2,
     "metadata": {},
     "output_type": "execute_result"
    }
   ],
   "source": [
    "[d.display_title for d in DataSource.objects.all()]"
   ]
  },
  {
   "cell_type": "code",
   "execution_count": 14,
   "metadata": {},
   "outputs": [
    {
     "name": "stdout",
     "output_type": "stream",
     "text": [
      "Dr.H.S . Visscher Filmkroniek FILM ZONDER NOODZAAK OF RAF FINEMENT „I TABU ” : SIGHT-SEEING VAN MENSELIJKE NARIGHEID `` T\\E mogelijkheden van de „verborgen camera '' en „cinema vérité '' hebben een filmgenre in het leven geroepen waarvan het voortbestaan even onmiskenbaar als raadselachtig is : de exotische en erotische reportage- en compilatiefilm . Cameraploegen worden over de hele wereld uitgestuurd op zoek naar bizarre en morbide verschijnselen in de menselijke samenleving , en vervolgens wordt het materiaal ondergebracht in een „kijk-film '' , die onder allerlei eerlijkheids- en onthullingsleuzen op ongelimiteerde wijze de voyeursneigingen die de „candid camera '' eigen zgn , uitbuit . Het resultaat is in de meeste gevallen een kleurige sight-seeing van menselijke narigheid en buitenissigheid met een stevige dosis exotisch naakt . Blasetti — het genre is bij uitstek Italiaans — voerde ons langs allerlei soorten van liefde en sexualiteit „all over the world '' in zijn film „ik bemin — jij bemint '' , die overigens nog gelardeerd werd met show-fragmenten die niets met zijn , thema ' te maken hadden . Een andere film bracht de burgerman in de nachtcabarets van de Europese hoofdsteden en confronteerde hem met het modeverschijnsel van onze tijd : de strip-tease . Jacopetti liet ■ zijn cameramensen alles „vangen '' wat zij aan afgrijselijks en weerzinwekkends op deze wereld konden vinden — en dat is nogal wat — om ermee te betogen dat wij in een „hondse wereld '' leven : Mondo Cane . Zijn film verwekte een hevige deining , ook in Nederland — en dat heeft Jacopetti geen windeieren gelegd , getuige het feit dat er niet lang daarna een Mondo Cane II is verschenen ... T~\\E nieuwste vertegenwoordiger van het genre ■*- ' is de Italiaanse film „I Tabu '' : een attractieve titel die ons „belooft '' de taboes van onze samenleving openlijk en onverhuld aan de orde te stellen — en onder deze vlag ogenblikkelijk weer een beroep doet op de voyeursinstincten door de begeleidende reclamevraag : „Kan de mensheid zó onmenselijk zijn ? '' Die vraag is niet zo erg ( bc- ) Vlemmend , want de hele film is zó boordevol van 'n snuifje-van-dit en een snoepje-van-dat , dat men op een enkele uitzondering na aan de onmenselijkheid ternauwernood toekomt — afgezien nog van het feit dat vele fragmenten volslagen onbelangrijk en zelfs onbenullig zijn . Het is de kunst van dergelijke films om al de losse fragmenten dapper aan elkaar te laten praten door een commentator — voor een Nederlandse commen , tatorstem is gezorgd — en er een wat beschouwelijk en „belehrend '' klankje aan te geven , dat . tegen het slot zich opwerkt tot een zekere verhevenheid , waarmee het publiek naar huis gestuurd kan worden . Jacopetti lukte dat indertijd niet eens zo gek in zijn eerste „Mondo Cane '' in „I Tabu '' voert de laatste sekwentie ons naar een kerkdienst in een melaatsenkolonie , terwijl de commentaar zich verliest in gepoUjste evangeliserende clichés , die niets uithalen . Waarschijnlijk is het wel goed bedoeld , maar goede bedoelingen alleen maken zo weinig uit , vooral als de film èn de commentaar verder zo graag speculeren op de voyeursinstincten . De hele commentaar lijdt trouwens aan een naar pathos en aan opgeschroefde clichés , zoals het huilerige fragment over invalide en aan lager wal geraakte Japanse samurai . Datzelfde onechte pathos is te beluisteren in de muzikale begeleiding met „engelenstemmen '' naar de beste Hollywoodtradities , die op de goedkoopste manier wordt aangewend , bijvoorbeeld in het fragment over de nog levende slachtoffers van Hiroshima . We zien een volkomen mismaakte dwerg lopen , geboren uit een radio-actief besmette moeder . „Een armzalig gedrocht '' , zegt de commentaar , „maar in hem huist de onsterfelijke ziel van een mens '' . Dat is het soort van gemakkelijke zinnen dat men nu juist maar niet te vlot moet gebruiken bij het mens '' elijk faillissement dat Hiroshima is ... r/O zit een uitgebreid publiek , belust op „ta- boes '' — op „dat-wat-niet-mag '' , — in de zaal en laat zich van India naar Japan , van Japan naar Zweden , van Zweden naar Honoloeloe , van Honoloeloe naar Zwitserland of vice versa slingeren , niet om de alomtegenwoordigheid van de Peter Stuyvesantsigaretten , maar om menselijke misère en buitenissigheid gedemonstreerd te zien . „I Tabu '' is in het genre een van de minst geslaagde films . Hoe verziekt , verwrongen de mentaliteit van Jacopetti 's „Mondo Cane '' ook mag zjjn , zijn film ervaart men in ieder geval als de uitdrukking van een werkelijk ressentiment tegen een „hondse wereld '' — en bovendien was zijn film knap gemaakt en gemonteerd , terwijl er toch , zij 't soms moeilijk onderkenbaar , een zekere „lijn '' in te ontdekken viel . ~I Tabu '' mist echter iedere noodzakelijkheid en ieder artistiek raffinement ; de „draai '' van de commentaar , halverwege de film , van het „taboe '' naar „de menselijke jacht op geluk '' is volkomen willekeurig , en bovendien is de film knullig gemaakt : iedere overgang van het ene fragment naar het andere is willekeurig en zonder enige ambitie tot werkelijke vormgeving De „candid camera '' is dikwijls maar een smoesje — men zie het fragment over de Zweedse nozems , dat byzonder weinig overtuigend en typisch „opgelegd '' is — , of een naar gluurdertje — men zie het absoluut onbenullige fragment over een Zwitserse nudistenkolonie — , of een machteloze registrator — men lic het gedeelte dat aan de prostitutie in Bombay gewijd is . Wat de Zweedse schoolles over sexuele omgang hierbij moet doen , is even raadselachtig als het fragment over Zwitserse kinderen die met de huissleutel om hun hals lopen omdat hun beide ouders de hele dag werken . Zo zou men kunnen doorgaan . Het enige moment dat werkelijk boeit en treft is de begrafenis van een jongenslijkje in de Ganges : daar wordt iets merkbaar van werkelijke ontzetting en werkehjk mededogen . De rest blijft buitenkant — een veelal saaie en langdradige buitenkant . s • * T Tabu '' toont duidelijk verwantschap met het 11*- genre van de bijbelse spektakelfilm a la De Mille : dezelfde nobele bedoelingen pretenderend , dezelfde belustheid tonend op sadistische en exotisch-erotische buitenissigheden , dezelfde quasigelegaliseerde verwachtingen wekkend . Ongetwijfeld betracht de film veel meer kiesheid in wat hij toont dan Jacopetti 's „Mondo Cane '' ; maar daarmee is de film zelf allerminst zuiverder dan die van Jacopetti . Integendeel . Er is praktisch geen fragment dat de tijd of de vorm vindt om ons werkelijk en intrinsiek bij een handeling of een situatie te betrekken . Kenmerkend is het slot , waar ons wel een aantal aandachtige gezichten van gelovige melaatsen wordt getoond , maar waar geen enkele wezenlijke confrontatie met en betrokkenheid bij deze afschuwelijke ziekte gewekt is . Onder het mom van menselijke bewogenheid blijft het ... sightseeing van kleurige menselijke narigheid . Men vraagt zich af wat de makers eigenlijk m zon film gezien hebben , nog klemmender is de vraag , wat het publiek in dit genre bltJft zien ...\n"
     ]
    }
   ],
   "source": [
    "data_source = DataSource.objects.first()\n",
    "print data_source.articles[0].raw_text"
   ]
  },
  {
   "cell_type": "code",
   "execution_count": 4,
   "metadata": {},
   "outputs": [],
   "source": [
    "p = Pipeline.create()"
   ]
  },
  {
   "cell_type": "code",
   "execution_count": 5,
   "metadata": {},
   "outputs": [],
   "source": [
    "p.lemmatization = False\n",
    "p.sw_removal = False\n",
    "p.quote_removal = True"
   ]
  },
  {
   "cell_type": "code",
   "execution_count": 6,
   "metadata": {},
   "outputs": [],
   "source": [
    "p.nlp_tool = Frog.create()"
   ]
  },
  {
   "cell_type": "code",
   "execution_count": 7,
   "metadata": {},
   "outputs": [],
   "source": [
    "skp = p.get_sk_pipeline()"
   ]
  },
  {
   "cell_type": "code",
   "execution_count": 8,
   "metadata": {},
   "outputs": [
    {
     "data": {
      "text/plain": [
       "[('CleanOCR', <newsgac.nlp_tools.transformers.CleanOCR at 0x7fabb8ec1850>),\n",
       " ('FeatureExtraction', FeatureUnion(n_jobs=None,\n",
       "         transformer_list=[('BasicFeatures', <newsgac.nlp_tools.transformers.ExtractBasicFeatures object at 0x7fabb3457e50>), ('QuoteFeatures', <newsgac.nlp_tools.transformers.ExtractQuotes object at 0x7fabb34430d0>), ('SentimentFeatures', <newsgac.nlp_tools.transformers.ExtractSentimentFeatures object at 0x...88a90>), ('Frog', <newsgac.nlp_tools.models.frog.FrogFeatureExtractor object at 0x7fabb3288b10>)]))],\n",
       "         transformer_weights=None)),\n",
       " ('RobustScaler',\n",
       "  RobustScaler(copy=True, quantile_range=(25.0, 75.0), with_centering=False,\n",
       "         with_scaling=True)),\n",
       " ('Classifier', SVC(C=1.0, cache_size=200, class_weight='balanced', coef0=0.0,\n",
       "    decision_function_shape='ovr', degree=3, gamma=0.1, kernel=u'linear',\n",
       "    max_iter=-1, probability=True, random_state=42, shrinking=True,\n",
       "    tol=0.001, verbose=False))]"
      ]
     },
     "execution_count": 8,
     "metadata": {},
     "output_type": "execute_result"
    }
   ],
   "source": [
    "skp.steps"
   ]
  },
  {
   "cell_type": "code",
   "execution_count": 9,
   "metadata": {},
   "outputs": [
    {
     "data": {
      "text/plain": [
       "('RobustScaler',\n",
       " RobustScaler(copy=True, quantile_range=(25.0, 75.0), with_centering=False,\n",
       "        with_scaling=True))"
      ]
     },
     "execution_count": 9,
     "metadata": {},
     "output_type": "execute_result"
    }
   ],
   "source": [
    "skp.steps.pop()\n",
    "skp.steps.pop()"
   ]
  },
  {
   "cell_type": "code",
   "execution_count": 10,
   "metadata": {},
   "outputs": [
    {
     "data": {
      "text/plain": [
       "[('CleanOCR', <newsgac.nlp_tools.transformers.CleanOCR at 0x7fabb8ec1850>),\n",
       " ('FeatureExtraction', FeatureUnion(n_jobs=None,\n",
       "         transformer_list=[('BasicFeatures', <newsgac.nlp_tools.transformers.ExtractBasicFeatures object at 0x7fabb3457e50>), ('QuoteFeatures', <newsgac.nlp_tools.transformers.ExtractQuotes object at 0x7fabb34430d0>), ('SentimentFeatures', <newsgac.nlp_tools.transformers.ExtractSentimentFeatures object at 0x...88a90>), ('Frog', <newsgac.nlp_tools.models.frog.FrogFeatureExtractor object at 0x7fabb3288b10>)]))],\n",
       "         transformer_weights=None))]"
      ]
     },
     "execution_count": 10,
     "metadata": {},
     "output_type": "execute_result"
    }
   ],
   "source": [
    "skp.steps"
   ]
  },
  {
   "cell_type": "code",
   "execution_count": 174,
   "metadata": {},
   "outputs": [
    {
     "name": "stdout",
     "output_type": "stream",
     "text": [
      "Geen concessies in oudejaarsrede De Gaulle houdt vast aan eigen weg In 1965 definitief uit de NATO ? Van onze correspondent PARIJS , 2 jan. — In zijn ondcjaarsradio en televisierede heeft generaal dc Gaulle alle illusies , die hier en daar hebben postgevat over eenmeer tegemoetkomende houding van Frankrijk ten opzichte van zijn Europese partners en Atlantische bondgenoten , met een forse streek van dc kaart geveegd . Dc president heeft te verstaan gegeven , dat er van hem niet dc geringste concessie te verwachten is op het gebied van dc stipranationaliteit , dc integratie en wat hij voorde eerste keer het „atlantisme '' noemde . Daarentegen heeft hij even duidelijk te verstaan gegeven , dat Frankrijk op ieder gebied zijn eigen baas wil worden en blijven . In Parijs , waar zelfs dc regering dc rede van generaal dc Gaulle met verbazing heeft ontvangen , beschouwt men dc uitspraken van dc president van dc republiek als dc onvoorwaardelijke afwijzing van iedere vorm van multilaterale óf atlantische samenwerking op het gebied van de defensie met kernwapens . Het vermoeden wordt zelfs uitgesproken , dat generaal de Gaulle voornemens is , in 1965 de NATO voorgoed de rug toe te keren . Op de oudeiaarsavondreceptie voor de bij het Elysèe geaccrediteerde journalisten heeft generaal de Gaulle nanamelijk verklaard , dat het atlantische pact bestaat en moet voortduren , maar dat de Noordatlantische Verdragsorganisatie niet voorbestemd is om te blijven bestaan . De Verenigde Staten en Frankrijk bestonden vóór de NATO bestond , aldus de Gaulle . Misschien onderhielden zij toen betere betrekkingen met i elkaar dan thans . Vage termen Generaal de Gaulle heeft zich niet beperkt , tot deze blijkbaar niet zo heel vriendelijke uitlatingen aan 't adres van de Verenigde Staten . Hij heeft tegelijkertijd verklaard , dat . Frankrijk ook óp het gebied van de politiek , de economie en het geldwezen wederom zelfstandig wil worden . Daaraan heeft hij toegevoegd , dat hij met dat al bereid is , de vereniging van Europa voortgang te doen vinden . In Franse regeringskringen mcenl men . dat generaal de Gaulle zich met opzet , heeft bediend , van . deze vrij vage termen inzake de Europese politiek , die opvallend afwijken van de veel aecuralere wijze , waarop de Westduitse president Lübke de wens heeft uitgesproken . dat Frankrijk en Duitsland hun bijdrage zullen leveren aan de voortzetting van de Europese eenwording . In Parijs verklaart men ook . dat de oudejaarsrede van de Gaulle een waarschuwing inhoudt aan Frankrijks Europese partners . Zij worden aangemaand , zich te -verzetten tegen de Amerikaanse economische invloed in Europa . De overheersende indruk die de rede van generaal de Gaulle heeft gemaakt is , dat de president zowel de Verenigde Staten als de Europese landen in bedekte woorden heeft aangekondigd , dat Frankrijk in alle opzichten en op alle gebied zijn eigen weg zal gaan wanneer de andere landen zich niet neerleggen bij wat het Elysée dicteert . Vriendelijk Uit het feit . dat de ontwikkelingslanden en de communistische staten , met name China , meer vriendelijkheden te horen hebben gekregen uit de mond van generaal de Gaulle dan Frankrijks bondgenoten , leidt men ook af , dat 1965 wel het jaar zou kunnen worden , waarin Frankrijk als het zijn zin niet krijgt , meer gaat samenwerken met de Oosteuropese landen en China dan met West- Europa en Noord-Amerika . De uitspraken van generaal de Gaulle op oudejaarsavond bewijzen , dat de verzoeningspogingen , die enkele weken geleden in Parijs zijn ondernomen door de Amerikaanse minister van buitenlandse zaken Dean Rusk , totaal schipbreuk hebben geleden . Doch in Parijs heeft dat niemand verbaasd . Daar wist men al vóór het einde van de vergadering van de Noordatlantische Raad , dat generaal de Gaulle „neen '' blijft zeggen tegen een multilaterale Atlantische kernmacht en tegen iedere vorm van integratie en supranationaliteit . De in Parijs verschijnende editie van de New Vork Herald Tribune vraagt zich af , of de totale onafhankelijkheid , die generaal de Gaulle opeist , eigenlijk wel iets anders is dan Frankrijks afzondering .\n"
     ]
    }
   ],
   "source": [
    "article_num = 5\n",
    "cleaned_text = skp.steps[0][1].transform([data_source.articles[article_num].raw_text])[0]\n",
    "print cleaned_text"
   ]
  },
  {
   "cell_type": "code",
   "execution_count": 18,
   "metadata": {},
   "outputs": [
    {
     "name": "stdout",
     "output_type": "stream",
     "text": [
      "Dr.H.S . Visscher Filmkroniek FILM ZONDER NOODZAAK OF RAF FINEMENT: SIGHT-SEEING VAN MENSELIJKE NARIGHEID TE mogelijkheden van de en hebben een filmgenre in het leven geroepen waarvan het voortbestaan even onmiskenbaar als raadselachtig is : de exotische en erotische reportage- en compilatiefilm . Cameraploegen worden over de hele wereld uitgestuurd op zoek naar bizarre en morbide verschijnselen in de menselijke samenleving , en vervolgens wordt het materiaal ondergebracht in een , die onder allerlei eerlijkheids- en onthullingsleuzen op ongelimiteerde wijze de voyeursneigingen die de eigen zgn , uitbuit . Het resultaat is in de meeste gevallen een kleurige sight-seeing van menselijke narigheid en buitenissigheid met een stevige dosis exotisch naakt . Blasetti — het genre is bij uitstek Italiaans — voerde ons langs allerlei soorten van liefde en sexualiteit in zijn film , die overigens nog gelardeerd werd met show-fragmenten die niets met zijn , thema ' te maken hadden . Een andere film bracht de burgerman in de nachtcabarets van de Europese hoofdsteden en confronteerde hem met het modeverschijnsel van onze tijd : de strip-tease . Jacopetti liet zijn cameramensen alles wat zij aan afgrijselijks en weerzinwekkends op deze wereld konden vinden — en dat is nogal wat — om ermee te betogen dat wij in een leven : Mondo Cane . Zijn film verwekte een hevige deining , ook in Nederland — en dat heeft Jacopetti geen windeieren gelegd , getuige het feit dat er niet lang daarna een Mondo Cane II is verschenen ... TE nieuwste vertegenwoordiger van het genre - ' is de Italiaanse film : een attractieve titel die ons de taboes van onze samenleving openlijk en onverhuld aan de orde te stellen — en onder deze vlag ogenblikkelijk weer een beroep doet op de voyeursinstincten door de begeleidende reclamevraag : Die vraag is niet zo erg bc- Vlemmend , want de hele film is zó boordevol van 'n snuifje-van-dit en een snoepje-van-dat , dat men op een enkele uitzondering na aan de onmenselijkheid ternauwernood toekomt — afgezien nog van het feit dat vele fragmenten volslagen onbelangrijk en zelfs onbenullig zijn . Het is de kunst van dergelijke films om al de losse fragmenten dapper aan elkaar te laten praten door een commentator — voor een Nederlandse commen , tatorstem is gezorgd — en er een wat beschouwelijk en klankje aan te geven , dat . tegen het slot zich opwerkt tot een zekere verhevenheid , waarmee het publiek naar huis gestuurd kan worden . Jacopetti lukte dat indertijd niet eens zo gek in zijn eerste in voert de laatste sekwentie ons naar een kerkdienst in een melaatsenkolonie , terwijl de commentaar zich verliest in gepoUjste evangeliserende clichés , die niets uithalen . Waarschijnlijk is het wel goed bedoeld , maar goede bedoelingen alleen maken zo weinig uit , vooral als de film èn de commentaar verder zo graag speculeren op de voyeursinstincten . De hele commentaar lijdt trouwens aan een naar pathos en aan opgeschroefde clichés , zoals het huilerige fragment over invalide en aan lager wal geraakte Japanse samurai . Datzelfde onechte pathos is te beluisteren in de muzikale begeleiding met naar de beste Hollywoodtradities , die op de goedkoopste manier wordt aangewend , bijvoorbeeld in het fragment over de nog levende slachtoffers van Hiroshima . We zien een volkomen mismaakte dwerg lopen , geboren uit een radio-actief besmette moeder . , zegt de commentaar , . Dat is het soort van gemakkelijke zinnen dat men nu juist maar niet te vlot moet gebruiken bij het mens '' elijk faillissement dat Hiroshima is ... rO zit een uitgebreid publiek , belust op — op , — in de zaal en laat zich van India naar Japan , van Japan naar Zweden , van Zweden naar Honoloeloe , van Honoloeloe naar Zwitserland of vice versa slingeren , niet om de alomtegenwoordigheid van de Peter Stuyvesantsigaretten , maar om menselijke misère en buitenissigheid gedemonstreerd te zien . is in het genre een van de minst geslaagde films . Hoe verziekt , verwrongen de mentaliteit van Jacopetti 's ook mag zjjn , zijn film ervaart men in ieder geval als de uitdrukking van een werkelijk ressentiment tegen een — en bovendien was zijn film knap gemaakt en gemonteerd , terwijl er toch , zij 't soms moeilijk onderkenbaar , een zekere in te ontdekken viel . I Tabu '' mist echter iedere noodzakelijkheid en ieder artistiek raffinement ; de van de commentaar , halverwege de film , van het naar is volkomen willekeurig , en bovendien is de film knullig gemaakt : iedere overgang van het ene fragment naar het andere is willekeurig en zonder enige ambitie tot werkelijke vormgeving De is dikwijls maar een smoesje — men zie het fragment over de Zweedse nozems , dat byzonder weinig overtuigend en typisch is — , of een naar gluurdertje — men zie het absoluut onbenullige fragment over een Zwitserse nudistenkolonie — , of een machteloze registrator — men lic het gedeelte dat aan de prostitutie in Bombay gewijd is . Wat de Zweedse schoolles over sexuele omgang hierbij moet doen , is even raadselachtig als het fragment over Zwitserse kinderen die met de huissleutel om hun hals lopen omdat hun beide ouders de hele dag werken . Zo zou men kunnen doorgaan . Het enige moment dat werkelijk boeit en treft is de begrafenis van een jongenslijkje in de Ganges : daar wordt iets merkbaar van werkelijke ontzetting en werkehjk mededogen . De rest blijft buitenkant — een veelal saaie en langdradige buitenkant . s T Tabu '' toont duidelijk verwantschap met het 11- genre van de bijbelse spektakelfilm a la De Mille : dezelfde nobele bedoelingen pretenderend , dezelfde belustheid tonend op sadistische en exotisch-erotische buitenissigheden , dezelfde quasigelegaliseerde verwachtingen wekkend . Ongetwijfeld betracht de film veel meer kiesheid in wat hij toont dan Jacopetti 's ; maar daarmee is de film zelf allerminst zuiverder dan die van Jacopetti . Integendeel . Er is praktisch geen fragment dat de tijd of de vorm vindt om ons werkelijk en intrinsiek bij een handeling of een situatie te betrekken . Kenmerkend is het slot , waar ons wel een aantal aandachtige gezichten van gelovige melaatsen wordt getoond , maar waar geen enkele wezenlijke confrontatie met en betrokkenheid bij deze afschuwelijke ziekte gewekt is . Onder het mom van menselijke bewogenheid blijft het ... sightseeing van kleurige menselijke narigheid . Men vraagt zich af wat de makers eigenlijk m zon film gezien hebben , nog klemmender is de vraag , wat het publiek in dit genre bltJft zien ...\n"
     ]
    }
   ],
   "source": [
    "unquoted_text = skp.steps[1][1].transformer_list[3][1].steps[0][1].transform([cleaned_text])[0]\n",
    "print unquoted_text"
   ]
  },
  {
   "cell_type": "code",
   "execution_count": 33,
   "metadata": {},
   "outputs": [
    {
     "data": {
      "text/html": [
       "<div>\n",
       "<style scoped>\n",
       "    .dataframe tbody tr th:only-of-type {\n",
       "        vertical-align: middle;\n",
       "    }\n",
       "\n",
       "    .dataframe tbody tr th {\n",
       "        vertical-align: top;\n",
       "    }\n",
       "\n",
       "    .dataframe thead th {\n",
       "        text-align: right;\n",
       "    }\n",
       "</style>\n",
       "<table border=\"1\" class=\"dataframe\">\n",
       "  <thead>\n",
       "    <tr style=\"text-align: right;\">\n",
       "      <th></th>\n",
       "      <th>adjectives_perc</th>\n",
       "      <th>cogn_verbs_perc</th>\n",
       "      <th>intensifiers_perc</th>\n",
       "      <th>modal_adverbs_perc</th>\n",
       "      <th>modal_verbs_perc</th>\n",
       "      <th>named_entities_perc</th>\n",
       "      <th>number_perc</th>\n",
       "      <th>pronoun_1_perc</th>\n",
       "      <th>pronoun_2_perc</th>\n",
       "      <th>pronoun_3_perc</th>\n",
       "      <th>unique_named_entities</th>\n",
       "    </tr>\n",
       "  </thead>\n",
       "  <tbody>\n",
       "    <tr>\n",
       "      <th>0</th>\n",
       "      <td>0.106285</td>\n",
       "      <td>0.003697</td>\n",
       "      <td>0.009242</td>\n",
       "      <td>0.001848</td>\n",
       "      <td>0.00647</td>\n",
       "      <td>0.039741</td>\n",
       "      <td>0.002773</td>\n",
       "      <td>0.008318</td>\n",
       "      <td>0.0</td>\n",
       "      <td>0.014787</td>\n",
       "      <td>0.604651</td>\n",
       "    </tr>\n",
       "  </tbody>\n",
       "</table>\n",
       "</div>"
      ],
      "text/plain": [
       "   adjectives_perc  cogn_verbs_perc  intensifiers_perc  modal_adverbs_perc  \\\n",
       "0         0.106285         0.003697           0.009242            0.001848   \n",
       "\n",
       "   modal_verbs_perc  named_entities_perc  number_perc  pronoun_1_perc  \\\n",
       "0           0.00647             0.039741     0.002773        0.008318   \n",
       "\n",
       "   pronoun_2_perc  pronoun_3_perc  unique_named_entities  \n",
       "0             0.0        0.014787               0.604651  "
      ]
     },
     "execution_count": 33,
     "metadata": {},
     "output_type": "execute_result"
    }
   ],
   "source": [
    "frog_step = skp.steps[1][1].transformer_list[3][1].steps[1][1]\n",
    "pandas.DataFrame(frog_step.transform([unquoted_text]), columns=frog_step.get_feature_names())\n"
   ]
  },
  {
   "cell_type": "code",
   "execution_count": 23,
   "metadata": {},
   "outputs": [
    {
     "data": {
      "text/plain": [
       "['adjectives_perc',\n",
       " 'cogn_verbs_perc',\n",
       " 'intensifiers_perc',\n",
       " 'modal_adverbs_perc',\n",
       " 'modal_verbs_perc',\n",
       " 'named_entities_perc',\n",
       " 'number_perc',\n",
       " 'pronoun_1_perc',\n",
       " 'pronoun_2_perc',\n",
       " 'pronoun_3_perc',\n",
       " 'unique_named_entities']"
      ]
     },
     "execution_count": 23,
     "metadata": {},
     "output_type": "execute_result"
    }
   ],
   "source": [
    "frog_step.get_feature_names()"
   ]
  },
  {
   "cell_type": "code",
   "execution_count": 25,
   "metadata": {},
   "outputs": [
    {
     "data": {
      "text/plain": [
       "array([0.10628466, 0.00369686, 0.00924214, 0.00184843, 0.0064695 ,\n",
       "       0.03974122, 0.00277264, 0.00831793, 0.        , 0.01478743,\n",
       "       0.60465116])"
      ]
     },
     "execution_count": 25,
     "metadata": {},
     "output_type": "execute_result"
    }
   ],
   "source": [
    "frog_step.transform([unquoted_text])[0]"
   ]
  },
  {
   "cell_type": "code",
   "execution_count": 56,
   "metadata": {},
   "outputs": [
    {
     "data": {
      "text/plain": [
       "0.10628465804066543"
      ]
     },
     "execution_count": 56,
     "metadata": {},
     "output_type": "execute_result"
    }
   ],
   "source": [
    "115/1082."
   ]
  },
  {
   "cell_type": "code",
   "execution_count": 101,
   "metadata": {},
   "outputs": [],
   "source": [
    "df = pandas.DataFrame(frog_process(unquoted_text))"
   ]
  },
  {
   "cell_type": "code",
   "execution_count": 170,
   "metadata": {},
   "outputs": [],
   "source": [
    "l = df[df[4].map(lambda c: c[0:1]) == 'B'].groupby(1).size().reset_index().sort_values(1)"
   ]
  },
  {
   "cell_type": "code",
   "execution_count": 171,
   "metadata": {},
   "outputs": [
    {
     "data": {
      "text/html": [
       "<div>\n",
       "<style scoped>\n",
       "    .dataframe tbody tr th:only-of-type {\n",
       "        vertical-align: middle;\n",
       "    }\n",
       "\n",
       "    .dataframe tbody tr th {\n",
       "        vertical-align: top;\n",
       "    }\n",
       "\n",
       "    .dataframe thead th {\n",
       "        text-align: right;\n",
       "    }\n",
       "</style>\n",
       "<table border=\"1\" class=\"dataframe\">\n",
       "  <thead>\n",
       "    <tr style=\"text-align: right;\">\n",
       "      <th></th>\n",
       "      <th>0</th>\n",
       "      <th>1</th>\n",
       "      <th>2</th>\n",
       "      <th>3</th>\n",
       "      <th>4</th>\n",
       "      <th>5</th>\n",
       "      <th>6</th>\n",
       "      <th>7</th>\n",
       "    </tr>\n",
       "  </thead>\n",
       "  <tbody>\n",
       "    <tr>\n",
       "      <th>0</th>\n",
       "      <td>Dr.H.S</td>\n",
       "      <td>Dr.H.S</td>\n",
       "      <td>[Dr.H.S]</td>\n",
       "      <td>SPEC(deeleigen)</td>\n",
       "      <td>B-PER</td>\n",
       "      <td>B-NP</td>\n",
       "      <td></td>\n",
       "      <td></td>\n",
       "    </tr>\n",
       "    <tr>\n",
       "      <th>2</th>\n",
       "      <td>Visscher_Filmkroniek</td>\n",
       "      <td>Visscher_Filmkroniek</td>\n",
       "      <td>[Visscher]_[Filmkroniek]</td>\n",
       "      <td>SPEC(deeleigen)_SPEC(deeleigen)</td>\n",
       "      <td>B-PER_I-PER</td>\n",
       "      <td>B-NP_I-NP</td>\n",
       "      <td></td>\n",
       "      <td></td>\n",
       "    </tr>\n",
       "    <tr>\n",
       "      <th>5</th>\n",
       "      <td>NOODZAAK</td>\n",
       "      <td>NOODZAAK</td>\n",
       "      <td>[NOODZAAK]</td>\n",
       "      <td>SPEC(deeleigen)</td>\n",
       "      <td>B-LOC</td>\n",
       "      <td>B-NP</td>\n",
       "      <td></td>\n",
       "      <td></td>\n",
       "    </tr>\n",
       "    <tr>\n",
       "      <th>7</th>\n",
       "      <td>RAF_FINEMENT</td>\n",
       "      <td>RAF_FINEMENT</td>\n",
       "      <td>[RAF]_[FINEMENT]</td>\n",
       "      <td>SPEC(deeleigen)_SPEC(deeleigen)</td>\n",
       "      <td>B-ORG_I-ORG</td>\n",
       "      <td>B-NP_I-NP</td>\n",
       "      <td></td>\n",
       "      <td></td>\n",
       "    </tr>\n",
       "    <tr>\n",
       "      <th>9</th>\n",
       "      <td>SIGHT-SEEING</td>\n",
       "      <td>sight-seeing</td>\n",
       "      <td>[sight-seeing]</td>\n",
       "      <td>N(soort,ev,basis,zijd,stan)</td>\n",
       "      <td>B-MISC</td>\n",
       "      <td>B-NP</td>\n",
       "      <td></td>\n",
       "      <td></td>\n",
       "    </tr>\n",
       "    <tr>\n",
       "      <th>109</th>\n",
       "      <td>Blasetti</td>\n",
       "      <td>Blasetti</td>\n",
       "      <td>[Blasetti]</td>\n",
       "      <td>SPEC(deeleigen)</td>\n",
       "      <td>B-PER</td>\n",
       "      <td>B-NP</td>\n",
       "      <td></td>\n",
       "      <td></td>\n",
       "    </tr>\n",
       "    <tr>\n",
       "      <th>115</th>\n",
       "      <td>Italiaans</td>\n",
       "      <td>Italiaans</td>\n",
       "      <td>[Italiaans]</td>\n",
       "      <td>SPEC(deeleigen)</td>\n",
       "      <td>B-LOC</td>\n",
       "      <td>I-NP</td>\n",
       "      <td></td>\n",
       "      <td></td>\n",
       "    </tr>\n",
       "    <tr>\n",
       "      <th>159</th>\n",
       "      <td>Europese</td>\n",
       "      <td>europees</td>\n",
       "      <td>[Europees][e]</td>\n",
       "      <td>ADJ(prenom,basis,met-e,stan)</td>\n",
       "      <td>B-LOC</td>\n",
       "      <td>I-NP</td>\n",
       "      <td></td>\n",
       "      <td></td>\n",
       "    </tr>\n",
       "    <tr>\n",
       "      <th>174</th>\n",
       "      <td>Jacopetti</td>\n",
       "      <td>Jacopetti</td>\n",
       "      <td>[Jacopetti]</td>\n",
       "      <td>SPEC(deeleigen)</td>\n",
       "      <td>B-PER</td>\n",
       "      <td>B-NP</td>\n",
       "      <td></td>\n",
       "      <td></td>\n",
       "    </tr>\n",
       "    <tr>\n",
       "      <th>207</th>\n",
       "      <td>Mondo_Cane</td>\n",
       "      <td>Mondo_Cane</td>\n",
       "      <td>[Mondo]_[Cane]</td>\n",
       "      <td>SPEC(deeleigen)_SPEC(deeleigen)</td>\n",
       "      <td>B-PER_I-PER</td>\n",
       "      <td>B-NP_I-NP</td>\n",
       "      <td></td>\n",
       "      <td></td>\n",
       "    </tr>\n",
       "    <tr>\n",
       "      <th>218</th>\n",
       "      <td>Nederland</td>\n",
       "      <td>Nederland</td>\n",
       "      <td>[Nederland]</td>\n",
       "      <td>SPEC(deeleigen)</td>\n",
       "      <td>B-LOC</td>\n",
       "      <td>B-NP</td>\n",
       "      <td></td>\n",
       "      <td></td>\n",
       "    </tr>\n",
       "    <tr>\n",
       "      <th>223</th>\n",
       "      <td>Jacopetti</td>\n",
       "      <td>Jacopetti</td>\n",
       "      <td>[Jacopetti]</td>\n",
       "      <td>SPEC(deeleigen)</td>\n",
       "      <td>B-LOC</td>\n",
       "      <td>B-NP</td>\n",
       "      <td></td>\n",
       "      <td></td>\n",
       "    </tr>\n",
       "    <tr>\n",
       "      <th>237</th>\n",
       "      <td>Mondo_Cane_II</td>\n",
       "      <td>Mondo_Cane_II</td>\n",
       "      <td>[Mondo]_[Cane]_[II]</td>\n",
       "      <td>SPEC(deeleigen)_SPEC(deeleigen)_SPEC(deeleigen)</td>\n",
       "      <td>B-PER_I-PER_I-PER</td>\n",
       "      <td>I-NP_I-NP_I-NP</td>\n",
       "      <td></td>\n",
       "      <td></td>\n",
       "    </tr>\n",
       "    <tr>\n",
       "      <th>251</th>\n",
       "      <td>Italiaanse</td>\n",
       "      <td>italiaans</td>\n",
       "      <td>[italiaans][e]</td>\n",
       "      <td>ADJ(prenom,basis,met-e,stan)</td>\n",
       "      <td>B-LOC</td>\n",
       "      <td>I-NP</td>\n",
       "      <td></td>\n",
       "      <td></td>\n",
       "    </tr>\n",
       "    <tr>\n",
       "      <th>295</th>\n",
       "      <td>Vlemmend</td>\n",
       "      <td>vlemmen</td>\n",
       "      <td>[vlem][end]</td>\n",
       "      <td>WW(od,vrij,zonder)</td>\n",
       "      <td>B-MISC</td>\n",
       "      <td>B-ADJP</td>\n",
       "      <td></td>\n",
       "      <td></td>\n",
       "    </tr>\n",
       "    <tr>\n",
       "      <th>362</th>\n",
       "      <td>Nederlandse</td>\n",
       "      <td>nederlands</td>\n",
       "      <td>[nederlands][e]</td>\n",
       "      <td>ADJ(prenom,basis,met-e,stan)</td>\n",
       "      <td>B-LOC</td>\n",
       "      <td>I-NP</td>\n",
       "      <td></td>\n",
       "      <td></td>\n",
       "    </tr>\n",
       "    <tr>\n",
       "      <th>401</th>\n",
       "      <td>Jacopetti</td>\n",
       "      <td>Jacopetti</td>\n",
       "      <td>[Jacopetti]</td>\n",
       "      <td>SPEC(deeleigen)</td>\n",
       "      <td>B-PER</td>\n",
       "      <td>B-NP</td>\n",
       "      <td></td>\n",
       "      <td></td>\n",
       "    </tr>\n",
       "    <tr>\n",
       "      <th>494</th>\n",
       "      <td>Japanse</td>\n",
       "      <td>japans</td>\n",
       "      <td>[japans][e]</td>\n",
       "      <td>ADJ(prenom,basis,met-e,stan)</td>\n",
       "      <td>B-LOC</td>\n",
       "      <td>I-NP</td>\n",
       "      <td></td>\n",
       "      <td></td>\n",
       "    </tr>\n",
       "    <tr>\n",
       "      <th>511</th>\n",
       "      <td>Hollywoodtradities</td>\n",
       "      <td>hollywoodtraditie</td>\n",
       "      <td>[hollywood][traditie][s]</td>\n",
       "      <td>N(soort,mv,basis)</td>\n",
       "      <td>B-MISC</td>\n",
       "      <td>I-NP</td>\n",
       "      <td></td>\n",
       "      <td></td>\n",
       "    </tr>\n",
       "    <tr>\n",
       "      <th>531</th>\n",
       "      <td>Hiroshima</td>\n",
       "      <td>Hiroshima</td>\n",
       "      <td>[Hiroshima]</td>\n",
       "      <td>SPEC(deeleigen)</td>\n",
       "      <td>B-LOC</td>\n",
       "      <td>B-NP</td>\n",
       "      <td></td>\n",
       "      <td></td>\n",
       "    </tr>\n",
       "    <tr>\n",
       "      <th>579</th>\n",
       "      <td>Hiroshima</td>\n",
       "      <td>Hiroshima</td>\n",
       "      <td>[Hiroshima]</td>\n",
       "      <td>SPEC(deeleigen)</td>\n",
       "      <td>B-LOC</td>\n",
       "      <td>B-NP</td>\n",
       "      <td></td>\n",
       "      <td></td>\n",
       "    </tr>\n",
       "    <tr>\n",
       "      <th>601</th>\n",
       "      <td>India</td>\n",
       "      <td>India</td>\n",
       "      <td>[India]</td>\n",
       "      <td>SPEC(deeleigen)</td>\n",
       "      <td>B-LOC</td>\n",
       "      <td>B-NP</td>\n",
       "      <td></td>\n",
       "      <td></td>\n",
       "    </tr>\n",
       "    <tr>\n",
       "      <th>603</th>\n",
       "      <td>Japan</td>\n",
       "      <td>Japan</td>\n",
       "      <td>[Japan]</td>\n",
       "      <td>SPEC(deeleigen)</td>\n",
       "      <td>B-LOC</td>\n",
       "      <td>B-NP</td>\n",
       "      <td></td>\n",
       "      <td></td>\n",
       "    </tr>\n",
       "    <tr>\n",
       "      <th>606</th>\n",
       "      <td>Japan</td>\n",
       "      <td>Japan</td>\n",
       "      <td>[Japan]</td>\n",
       "      <td>SPEC(deeleigen)</td>\n",
       "      <td>B-LOC</td>\n",
       "      <td>B-NP</td>\n",
       "      <td></td>\n",
       "      <td></td>\n",
       "    </tr>\n",
       "    <tr>\n",
       "      <th>608</th>\n",
       "      <td>Zweden</td>\n",
       "      <td>Zweden</td>\n",
       "      <td>[Zweden]</td>\n",
       "      <td>SPEC(deeleigen)</td>\n",
       "      <td>B-LOC</td>\n",
       "      <td>B-NP</td>\n",
       "      <td></td>\n",
       "      <td></td>\n",
       "    </tr>\n",
       "    <tr>\n",
       "      <th>611</th>\n",
       "      <td>Zweden</td>\n",
       "      <td>Zweden</td>\n",
       "      <td>[Zweden]</td>\n",
       "      <td>SPEC(deeleigen)</td>\n",
       "      <td>B-LOC</td>\n",
       "      <td>B-NP</td>\n",
       "      <td></td>\n",
       "      <td></td>\n",
       "    </tr>\n",
       "    <tr>\n",
       "      <th>613</th>\n",
       "      <td>Honoloeloe</td>\n",
       "      <td>Honoloeloe</td>\n",
       "      <td>[Honoloeloe]</td>\n",
       "      <td>SPEC(deeleigen)</td>\n",
       "      <td>B-LOC</td>\n",
       "      <td>B-NP</td>\n",
       "      <td></td>\n",
       "      <td></td>\n",
       "    </tr>\n",
       "    <tr>\n",
       "      <th>616</th>\n",
       "      <td>Honoloeloe</td>\n",
       "      <td>Honoloeloe</td>\n",
       "      <td>[Honoloeloe]</td>\n",
       "      <td>SPEC(deeleigen)</td>\n",
       "      <td>B-LOC</td>\n",
       "      <td>B-NP</td>\n",
       "      <td></td>\n",
       "      <td></td>\n",
       "    </tr>\n",
       "    <tr>\n",
       "      <th>618</th>\n",
       "      <td>Zwitserland</td>\n",
       "      <td>Zwitserland</td>\n",
       "      <td>[Zwitserland]</td>\n",
       "      <td>SPEC(deeleigen)</td>\n",
       "      <td>B-LOC</td>\n",
       "      <td>B-NP</td>\n",
       "      <td></td>\n",
       "      <td></td>\n",
       "    </tr>\n",
       "    <tr>\n",
       "      <th>629</th>\n",
       "      <td>Peter_Stuyvesantsigaretten</td>\n",
       "      <td>Peter_Stuyvesantsigaretten</td>\n",
       "      <td>[Peter]_[Stuyvesantsigaretten]</td>\n",
       "      <td>SPEC(deeleigen)_SPEC(deeleigen)</td>\n",
       "      <td>B-PER_I-PER</td>\n",
       "      <td>I-NP_I-NP</td>\n",
       "      <td></td>\n",
       "      <td></td>\n",
       "    </tr>\n",
       "    <tr>\n",
       "      <th>659</th>\n",
       "      <td>Jacopetti</td>\n",
       "      <td>Jacopetti</td>\n",
       "      <td>[Jacopetti]</td>\n",
       "      <td>SPEC(deeleigen)</td>\n",
       "      <td>B-LOC</td>\n",
       "      <td>B-NP</td>\n",
       "      <td></td>\n",
       "      <td></td>\n",
       "    </tr>\n",
       "    <tr>\n",
       "      <th>709</th>\n",
       "      <td>I</td>\n",
       "      <td>i</td>\n",
       "      <td>[i]</td>\n",
       "      <td>N(soort,ev,basis,zijd,stan)</td>\n",
       "      <td>B-MISC</td>\n",
       "      <td>B-NP</td>\n",
       "      <td></td>\n",
       "      <td></td>\n",
       "    </tr>\n",
       "    <tr>\n",
       "      <th>710</th>\n",
       "      <td>Tabu</td>\n",
       "      <td>Tabu</td>\n",
       "      <td>[Tabu]</td>\n",
       "      <td>SPEC(deeleigen)</td>\n",
       "      <td>B-PER</td>\n",
       "      <td>B-NP</td>\n",
       "      <td></td>\n",
       "      <td></td>\n",
       "    </tr>\n",
       "    <tr>\n",
       "      <th>777</th>\n",
       "      <td>Zweedse</td>\n",
       "      <td>zweeds</td>\n",
       "      <td>[zweeds][e]</td>\n",
       "      <td>ADJ(prenom,basis,met-e,stan)</td>\n",
       "      <td>B-LOC</td>\n",
       "      <td>I-NP</td>\n",
       "      <td></td>\n",
       "      <td></td>\n",
       "    </tr>\n",
       "    <tr>\n",
       "      <th>802</th>\n",
       "      <td>Zwitserse</td>\n",
       "      <td>zwitsers</td>\n",
       "      <td>[zwitsers][e]</td>\n",
       "      <td>ADJ(prenom,basis,met-e,stan)</td>\n",
       "      <td>B-LOC</td>\n",
       "      <td>I-NP</td>\n",
       "      <td></td>\n",
       "      <td></td>\n",
       "    </tr>\n",
       "    <tr>\n",
       "      <th>820</th>\n",
       "      <td>Bombay</td>\n",
       "      <td>Bombay</td>\n",
       "      <td>[Bombay]</td>\n",
       "      <td>SPEC(deeleigen)</td>\n",
       "      <td>B-LOC</td>\n",
       "      <td>B-NP</td>\n",
       "      <td></td>\n",
       "      <td></td>\n",
       "    </tr>\n",
       "    <tr>\n",
       "      <th>826</th>\n",
       "      <td>Zweedse</td>\n",
       "      <td>zweeds</td>\n",
       "      <td>[zweeds][e]</td>\n",
       "      <td>ADJ(prenom,basis,met-e,stan)</td>\n",
       "      <td>B-LOC</td>\n",
       "      <td>I-NP</td>\n",
       "      <td></td>\n",
       "      <td></td>\n",
       "    </tr>\n",
       "    <tr>\n",
       "      <th>842</th>\n",
       "      <td>Zwitserse</td>\n",
       "      <td>zwitsers</td>\n",
       "      <td>[zwitsers][e]</td>\n",
       "      <td>ADJ(prenom,basis,met-e,stan)</td>\n",
       "      <td>B-LOC</td>\n",
       "      <td>B-NP</td>\n",
       "      <td></td>\n",
       "      <td></td>\n",
       "    </tr>\n",
       "    <tr>\n",
       "      <th>883</th>\n",
       "      <td>Ganges</td>\n",
       "      <td>Ganges</td>\n",
       "      <td>[Ganges]</td>\n",
       "      <td>SPEC(deeleigen)</td>\n",
       "      <td>B-LOC</td>\n",
       "      <td>I-NP</td>\n",
       "      <td></td>\n",
       "      <td></td>\n",
       "    </tr>\n",
       "    <tr>\n",
       "      <th>910</th>\n",
       "      <td>Tabu</td>\n",
       "      <td>Tabu</td>\n",
       "      <td>[Tabu]</td>\n",
       "      <td>SPEC(deeleigen)</td>\n",
       "      <td>B-PER</td>\n",
       "      <td>I-NP</td>\n",
       "      <td></td>\n",
       "      <td></td>\n",
       "    </tr>\n",
       "    <tr>\n",
       "      <th>927</th>\n",
       "      <td>Mille</td>\n",
       "      <td>Mille</td>\n",
       "      <td>[Mille]</td>\n",
       "      <td>SPEC(deeleigen)</td>\n",
       "      <td>B-LOC</td>\n",
       "      <td>I-NP</td>\n",
       "      <td></td>\n",
       "      <td></td>\n",
       "    </tr>\n",
       "    <tr>\n",
       "      <th>960</th>\n",
       "      <td>Jacopetti</td>\n",
       "      <td>Jacopetti</td>\n",
       "      <td>[Jacopetti]</td>\n",
       "      <td>SPEC(deeleigen)</td>\n",
       "      <td>B-PER</td>\n",
       "      <td>B-NP</td>\n",
       "      <td></td>\n",
       "      <td></td>\n",
       "    </tr>\n",
       "    <tr>\n",
       "      <th>974</th>\n",
       "      <td>Jacopetti</td>\n",
       "      <td>Jacopetti</td>\n",
       "      <td>[Jacopetti]</td>\n",
       "      <td>SPEC(deeleigen)</td>\n",
       "      <td>B-LOC</td>\n",
       "      <td>B-NP</td>\n",
       "      <td></td>\n",
       "      <td></td>\n",
       "    </tr>\n",
       "  </tbody>\n",
       "</table>\n",
       "</div>"
      ],
      "text/plain": [
       "                              0                           1  \\\n",
       "0                        Dr.H.S                      Dr.H.S   \n",
       "2          Visscher_Filmkroniek        Visscher_Filmkroniek   \n",
       "5                      NOODZAAK                    NOODZAAK   \n",
       "7                  RAF_FINEMENT                RAF_FINEMENT   \n",
       "9                  SIGHT-SEEING                sight-seeing   \n",
       "109                    Blasetti                    Blasetti   \n",
       "115                   Italiaans                   Italiaans   \n",
       "159                    Europese                    europees   \n",
       "174                   Jacopetti                   Jacopetti   \n",
       "207                  Mondo_Cane                  Mondo_Cane   \n",
       "218                   Nederland                   Nederland   \n",
       "223                   Jacopetti                   Jacopetti   \n",
       "237               Mondo_Cane_II               Mondo_Cane_II   \n",
       "251                  Italiaanse                   italiaans   \n",
       "295                    Vlemmend                     vlemmen   \n",
       "362                 Nederlandse                  nederlands   \n",
       "401                   Jacopetti                   Jacopetti   \n",
       "494                     Japanse                      japans   \n",
       "511          Hollywoodtradities           hollywoodtraditie   \n",
       "531                   Hiroshima                   Hiroshima   \n",
       "579                   Hiroshima                   Hiroshima   \n",
       "601                       India                       India   \n",
       "603                       Japan                       Japan   \n",
       "606                       Japan                       Japan   \n",
       "608                      Zweden                      Zweden   \n",
       "611                      Zweden                      Zweden   \n",
       "613                  Honoloeloe                  Honoloeloe   \n",
       "616                  Honoloeloe                  Honoloeloe   \n",
       "618                 Zwitserland                 Zwitserland   \n",
       "629  Peter_Stuyvesantsigaretten  Peter_Stuyvesantsigaretten   \n",
       "659                   Jacopetti                   Jacopetti   \n",
       "709                           I                           i   \n",
       "710                        Tabu                        Tabu   \n",
       "777                     Zweedse                      zweeds   \n",
       "802                   Zwitserse                    zwitsers   \n",
       "820                      Bombay                      Bombay   \n",
       "826                     Zweedse                      zweeds   \n",
       "842                   Zwitserse                    zwitsers   \n",
       "883                      Ganges                      Ganges   \n",
       "910                        Tabu                        Tabu   \n",
       "927                       Mille                       Mille   \n",
       "960                   Jacopetti                   Jacopetti   \n",
       "974                   Jacopetti                   Jacopetti   \n",
       "\n",
       "                                  2  \\\n",
       "0                          [Dr.H.S]   \n",
       "2          [Visscher]_[Filmkroniek]   \n",
       "5                        [NOODZAAK]   \n",
       "7                  [RAF]_[FINEMENT]   \n",
       "9                    [sight-seeing]   \n",
       "109                      [Blasetti]   \n",
       "115                     [Italiaans]   \n",
       "159                   [Europees][e]   \n",
       "174                     [Jacopetti]   \n",
       "207                  [Mondo]_[Cane]   \n",
       "218                     [Nederland]   \n",
       "223                     [Jacopetti]   \n",
       "237             [Mondo]_[Cane]_[II]   \n",
       "251                  [italiaans][e]   \n",
       "295                     [vlem][end]   \n",
       "362                 [nederlands][e]   \n",
       "401                     [Jacopetti]   \n",
       "494                     [japans][e]   \n",
       "511        [hollywood][traditie][s]   \n",
       "531                     [Hiroshima]   \n",
       "579                     [Hiroshima]   \n",
       "601                         [India]   \n",
       "603                         [Japan]   \n",
       "606                         [Japan]   \n",
       "608                        [Zweden]   \n",
       "611                        [Zweden]   \n",
       "613                    [Honoloeloe]   \n",
       "616                    [Honoloeloe]   \n",
       "618                   [Zwitserland]   \n",
       "629  [Peter]_[Stuyvesantsigaretten]   \n",
       "659                     [Jacopetti]   \n",
       "709                             [i]   \n",
       "710                          [Tabu]   \n",
       "777                     [zweeds][e]   \n",
       "802                   [zwitsers][e]   \n",
       "820                        [Bombay]   \n",
       "826                     [zweeds][e]   \n",
       "842                   [zwitsers][e]   \n",
       "883                        [Ganges]   \n",
       "910                          [Tabu]   \n",
       "927                         [Mille]   \n",
       "960                     [Jacopetti]   \n",
       "974                     [Jacopetti]   \n",
       "\n",
       "                                                   3                  4  \\\n",
       "0                                    SPEC(deeleigen)              B-PER   \n",
       "2                    SPEC(deeleigen)_SPEC(deeleigen)        B-PER_I-PER   \n",
       "5                                    SPEC(deeleigen)              B-LOC   \n",
       "7                    SPEC(deeleigen)_SPEC(deeleigen)        B-ORG_I-ORG   \n",
       "9                        N(soort,ev,basis,zijd,stan)             B-MISC   \n",
       "109                                  SPEC(deeleigen)              B-PER   \n",
       "115                                  SPEC(deeleigen)              B-LOC   \n",
       "159                     ADJ(prenom,basis,met-e,stan)              B-LOC   \n",
       "174                                  SPEC(deeleigen)              B-PER   \n",
       "207                  SPEC(deeleigen)_SPEC(deeleigen)        B-PER_I-PER   \n",
       "218                                  SPEC(deeleigen)              B-LOC   \n",
       "223                                  SPEC(deeleigen)              B-LOC   \n",
       "237  SPEC(deeleigen)_SPEC(deeleigen)_SPEC(deeleigen)  B-PER_I-PER_I-PER   \n",
       "251                     ADJ(prenom,basis,met-e,stan)              B-LOC   \n",
       "295                               WW(od,vrij,zonder)             B-MISC   \n",
       "362                     ADJ(prenom,basis,met-e,stan)              B-LOC   \n",
       "401                                  SPEC(deeleigen)              B-PER   \n",
       "494                     ADJ(prenom,basis,met-e,stan)              B-LOC   \n",
       "511                                N(soort,mv,basis)             B-MISC   \n",
       "531                                  SPEC(deeleigen)              B-LOC   \n",
       "579                                  SPEC(deeleigen)              B-LOC   \n",
       "601                                  SPEC(deeleigen)              B-LOC   \n",
       "603                                  SPEC(deeleigen)              B-LOC   \n",
       "606                                  SPEC(deeleigen)              B-LOC   \n",
       "608                                  SPEC(deeleigen)              B-LOC   \n",
       "611                                  SPEC(deeleigen)              B-LOC   \n",
       "613                                  SPEC(deeleigen)              B-LOC   \n",
       "616                                  SPEC(deeleigen)              B-LOC   \n",
       "618                                  SPEC(deeleigen)              B-LOC   \n",
       "629                  SPEC(deeleigen)_SPEC(deeleigen)        B-PER_I-PER   \n",
       "659                                  SPEC(deeleigen)              B-LOC   \n",
       "709                      N(soort,ev,basis,zijd,stan)             B-MISC   \n",
       "710                                  SPEC(deeleigen)              B-PER   \n",
       "777                     ADJ(prenom,basis,met-e,stan)              B-LOC   \n",
       "802                     ADJ(prenom,basis,met-e,stan)              B-LOC   \n",
       "820                                  SPEC(deeleigen)              B-LOC   \n",
       "826                     ADJ(prenom,basis,met-e,stan)              B-LOC   \n",
       "842                     ADJ(prenom,basis,met-e,stan)              B-LOC   \n",
       "883                                  SPEC(deeleigen)              B-LOC   \n",
       "910                                  SPEC(deeleigen)              B-PER   \n",
       "927                                  SPEC(deeleigen)              B-LOC   \n",
       "960                                  SPEC(deeleigen)              B-PER   \n",
       "974                                  SPEC(deeleigen)              B-LOC   \n",
       "\n",
       "                  5 6 7  \n",
       "0              B-NP      \n",
       "2         B-NP_I-NP      \n",
       "5              B-NP      \n",
       "7         B-NP_I-NP      \n",
       "9              B-NP      \n",
       "109            B-NP      \n",
       "115            I-NP      \n",
       "159            I-NP      \n",
       "174            B-NP      \n",
       "207       B-NP_I-NP      \n",
       "218            B-NP      \n",
       "223            B-NP      \n",
       "237  I-NP_I-NP_I-NP      \n",
       "251            I-NP      \n",
       "295          B-ADJP      \n",
       "362            I-NP      \n",
       "401            B-NP      \n",
       "494            I-NP      \n",
       "511            I-NP      \n",
       "531            B-NP      \n",
       "579            B-NP      \n",
       "601            B-NP      \n",
       "603            B-NP      \n",
       "606            B-NP      \n",
       "608            B-NP      \n",
       "611            B-NP      \n",
       "613            B-NP      \n",
       "616            B-NP      \n",
       "618            B-NP      \n",
       "629       I-NP_I-NP      \n",
       "659            B-NP      \n",
       "709            B-NP      \n",
       "710            B-NP      \n",
       "777            I-NP      \n",
       "802            I-NP      \n",
       "820            B-NP      \n",
       "826            I-NP      \n",
       "842            B-NP      \n",
       "883            I-NP      \n",
       "910            I-NP      \n",
       "927            I-NP      \n",
       "960            B-NP      \n",
       "974            B-NP      "
      ]
     },
     "execution_count": 171,
     "metadata": {},
     "output_type": "execute_result"
    }
   ],
   "source": [
    "df[df[4].map(lambda c: c[0:1]) == 'B']"
   ]
  },
  {
   "cell_type": "raw",
   "metadata": {},
   "source": []
  },
  {
   "cell_type": "code",
   "execution_count": 161,
   "metadata": {},
   "outputs": [
    {
     "data": {
      "text/plain": [
       "1272"
      ]
     },
     "execution_count": 161,
     "metadata": {},
     "output_type": "execute_result"
    }
   ],
   "source": [
    "len(frogclient.process(cleaned_text))"
   ]
  },
  {
   "cell_type": "code",
   "execution_count": 127,
   "metadata": {},
   "outputs": [
    {
     "data": {
      "text/plain": [
       "[u'blasetti',\n",
       " u'bombay',\n",
       " u'dr.h.s',\n",
       " u'europees',\n",
       " u'ganges',\n",
       " u'hiroshima',\n",
       " u'hollywoodtraditie',\n",
       " u'honoloeloe',\n",
       " u'i',\n",
       " u'india',\n",
       " u'italiaans',\n",
       " u'jacopetti',\n",
       " u'japan',\n",
       " u'japans',\n",
       " u'mille',\n",
       " u'mondo_cane',\n",
       " u'mondo_cane_ii',\n",
       " u'nederland',\n",
       " u'nederlands',\n",
       " u'noodzaak',\n",
       " u'peter_stuyvesantsigaretten',\n",
       " u'raf_finement',\n",
       " u'sight-seeing',\n",
       " u'tabu',\n",
       " u'visscher_filmkroniek',\n",
       " u'vlemmen',\n",
       " u'zweden',\n",
       " u'zweeds',\n",
       " u'zwitserland',\n",
       " u'zwitsers']"
      ]
     },
     "execution_count": 127,
     "metadata": {},
     "output_type": "execute_result"
    }
   ],
   "source": [
    "# Unique named entities\n",
    "tokens = frog_process(unquoted_text)\n",
    "named_entities = [t for t in tokens if t[4].startswith('B')]\n",
    "unique_ne_strings = []\n",
    "ne_strings = set([t[1].lower() for t in named_entities])\n",
    "for ne_source in ne_strings:\n",
    "    unique = True\n",
    "    for ne_target in [n for n in ne_strings if n != ne_source]:\n",
    "        if ne_target.find(ne_source) > -1:\n",
    "            unique = False\n",
    "            break\n",
    "    if unique:\n",
    "        unique_ne_strings.append(ne_source)\n"
   ]
  },
  {
   "cell_type": "code",
   "execution_count": 128,
   "metadata": {},
   "outputs": [
    {
     "data": {
      "text/plain": [
       "{u'i', u'japan', u'mondo_cane', u'nederland'}"
      ]
     },
     "execution_count": 128,
     "metadata": {},
     "output_type": "execute_result"
    }
   ],
   "source": [
    "set(sorted(ne_strings)) - set(sorted(unique_ne_strings))"
   ]
  },
  {
   "cell_type": "code",
   "execution_count": 129,
   "metadata": {},
   "outputs": [
    {
     "data": {
      "text/plain": [
       "[('CleanOCR', <newsgac.nlp_tools.transformers.CleanOCR at 0x7fabb8ec1850>),\n",
       " ('FeatureExtraction', FeatureUnion(n_jobs=None,\n",
       "         transformer_list=[('BasicFeatures', <newsgac.nlp_tools.transformers.ExtractBasicFeatures object at 0x7fabb3457e50>), ('QuoteFeatures', <newsgac.nlp_tools.transformers.ExtractQuotes object at 0x7fabb34430d0>), ('SentimentFeatures', <newsgac.nlp_tools.transformers.ExtractSentimentFeatures object at 0x...88a90>), ('Frog', <newsgac.nlp_tools.models.frog.FrogFeatureExtractor object at 0x7fabb3288b10>)]))],\n",
       "         transformer_weights=None))]"
      ]
     },
     "execution_count": 129,
     "metadata": {},
     "output_type": "execute_result"
    }
   ],
   "source": [
    "skp.steps"
   ]
  },
  {
   "cell_type": "code",
   "execution_count": 179,
   "metadata": {},
   "outputs": [
    {
     "data": {
      "text/plain": [
       "array([2.        , 0.07407407])"
      ]
     },
     "execution_count": 179,
     "metadata": {},
     "output_type": "execute_result"
    }
   ],
   "source": [
    "skp.steps[1][1].transformer_list[1][1].transform([cleaned_text])[0]\n"
   ]
  },
  {
   "cell_type": "code",
   "execution_count": 142,
   "metadata": {},
   "outputs": [
    {
     "data": {
      "text/plain": [
       "[('question_marks_perc', 0.0008375209380234506),\n",
       " ('exclamation_marks_perc', 0.0),\n",
       " ('currency_symbols_perc', 0.0),\n",
       " ('digits_perc', 0.0016750418760469012),\n",
       " ('sentences', 32.0),\n",
       " ('avg_sentence_length', 37.3125)]"
      ]
     },
     "execution_count": 142,
     "metadata": {},
     "output_type": "execute_result"
    }
   ],
   "source": [
    "zip(basic_features.get_feature_names(), basic_features.transform([cleaned_text])[0])"
   ]
  },
  {
   "cell_type": "code",
   "execution_count": 143,
   "metadata": {},
   "outputs": [],
   "source": [
    "from nltk import word_tokenize"
   ]
  },
  {
   "cell_type": "code",
   "execution_count": 147,
   "metadata": {},
   "outputs": [
    {
     "data": {
      "text/plain": [
       "1194"
      ]
     },
     "execution_count": 147,
     "metadata": {},
     "output_type": "execute_result"
    }
   ],
   "source": [
    "len(word_tokenize(cleaned_text))"
   ]
  },
  {
   "cell_type": "code",
   "execution_count": 162,
   "metadata": {},
   "outputs": [
    {
     "data": {
      "text/plain": [
       "1272"
      ]
     },
     "execution_count": 162,
     "metadata": {},
     "output_type": "execute_result"
    }
   ],
   "source": [
    "len(frogclient.process(cleaned_text))"
   ]
  },
  {
   "cell_type": "code",
   "execution_count": 175,
   "metadata": {},
   "outputs": [
    {
     "data": {
      "text/plain": [
       "array([0.07121212, 0.40681818])"
      ]
     },
     "execution_count": 175,
     "metadata": {},
     "output_type": "execute_result"
    }
   ],
   "source": [
    "skp.steps[1][1].transformer_list[2][1].transform([cleaned_text])[0]"
   ]
  },
  {
   "cell_type": "code",
   "execution_count": 172,
   "metadata": {},
   "outputs": [
    {
     "data": {
      "text/plain": [
       "['polarity', 'subjectivity']"
      ]
     },
     "execution_count": 172,
     "metadata": {},
     "output_type": "execute_result"
    }
   ],
   "source": [
    "skp.steps[1][1].transformer_list[2][1].get_feature_names()"
   ]
  },
  {
   "cell_type": "code",
   "execution_count": 183,
   "metadata": {},
   "outputs": [
    {
     "data": {
      "text/plain": [
       "0.07407407407407407"
      ]
     },
     "execution_count": 183,
     "metadata": {},
     "output_type": "execute_result"
    }
   ],
   "source": [
    "2. / 27"
   ]
  },
  {
   "cell_type": "code",
   "execution_count": 184,
   "metadata": {},
   "outputs": [],
   "source": [
    "from nltk import sent_tokenize"
   ]
  },
  {
   "cell_type": "code",
   "execution_count": 186,
   "metadata": {},
   "outputs": [
    {
     "data": {
      "text/plain": [
       "['....a asd ads asd.. asdsadaasdlkj  gfgfdf fdgdf .',\n",
       " 'sdgsd lsdfj with dr. bla die hospital.']"
      ]
     },
     "execution_count": 186,
     "metadata": {},
     "output_type": "execute_result"
    }
   ],
   "source": [
    "sent_tokenize('....a asd ads asd.. asdsadaasdlkj  gfgfdf fdgdf . sdgsd lsdfj with dr. bla die hospital.')"
   ]
  },
  {
   "cell_type": "code",
   "execution_count": null,
   "metadata": {},
   "outputs": [],
   "source": []
  }
 ],
 "metadata": {
  "kernelspec": {
   "display_name": "Python 2",
   "language": "python",
   "name": "python2"
  },
  "language_info": {
   "codemirror_mode": {
    "name": "ipython",
    "version": 2
   },
   "file_extension": ".py",
   "mimetype": "text/x-python",
   "name": "python",
   "nbconvert_exporter": "python",
   "pygments_lexer": "ipython2",
   "version": "2.7.15"
  }
 },
 "nbformat": 4,
 "nbformat_minor": 2
}
