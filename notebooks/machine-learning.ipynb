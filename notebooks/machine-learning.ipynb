{
 "cells": [
  {
   "cell_type": "markdown",
   "metadata": {},
   "source": [
    "## Best machine learning applied to decades of newspaper articles \n",
    "\n",
    "Source: newsgac/ace/tasks.py explain_article_lime_task_impl()"
   ]
  },
  {
   "cell_type": "markdown",
   "metadata": {},
   "source": [
    "First load necessary Python libraries:"
   ]
  },
  {
   "cell_type": "code",
   "execution_count": 1,
   "metadata": {},
   "outputs": [
    {
     "name": "stdout",
     "output_type": "stream",
     "text": [
      "WARNING:newsgac.config:Loading environment variables from \".env\" file.\n"
     ]
    }
   ],
   "source": [
    "from newsgac import config\n",
    "from newsgac import database\n",
    "from newsgac.data_sources import DataSource\n",
    "from newsgac.pipelines import Pipeline"
   ]
  },
  {
   "cell_type": "markdown",
   "metadata": {},
   "source": [
    "### Data set\n",
    "\n",
    "Next: load a toy data set:"
   ]
  },
  {
   "cell_type": "code",
   "execution_count": 12,
   "metadata": {},
   "outputs": [
    {
     "data": {
      "text/plain": [
       "['test', 'newsgac train 9 genres', 'newsgac test 9 genres']"
      ]
     },
     "execution_count": 12,
     "metadata": {},
     "output_type": "execute_result"
    }
   ],
   "source": [
    "[d.display_title for d in DataSource.objects.all()]"
   ]
  },
  {
   "cell_type": "code",
   "execution_count": 3,
   "metadata": {},
   "outputs": [
    {
     "name": "stdout",
     "output_type": "stream",
     "text": [
      "2 Anna Sergejevna Achmanova (ook wel gespeld als Akhmanova of Ackmanova) (Moskou, 11 mei 1967) is een in Rusland geboren Nederlandse celbiologe en hoogleraar cellulaire dynamica aan de Universiteit Utrecht.\n"
     ]
    }
   ],
   "source": [
    "data_source = DataSource.objects.first()\n",
    "print(data_source.articles[0].label,data_source.articles[0].raw_text)"
   ]
  },
  {
   "cell_type": "code",
   "execution_count": 4,
   "metadata": {},
   "outputs": [],
   "source": [
    "articles = [article.raw_text for article in data_source.articles]\n",
    "labels = [article.label for article in data_source.articles]"
   ]
  },
  {
   "cell_type": "code",
   "execution_count": 5,
   "metadata": {},
   "outputs": [
    {
     "name": "stdout",
     "output_type": "stream",
     "text": [
      "18 Hendrik Pieter (Henk) Barendregt (Amsterdam, 1947) is emeritus hoogleraar aan de Radboud Universiteit Nijmegen met leeropdracht \\Grondslagen van de wiskunde en informatica\\\" en voormalig adjunct-hoogleraar aan de Carnegie Mellon University in Pittsburgh Pennsylvania.\"\n"
     ]
    }
   ],
   "source": [
    "print(labels[1],articles[1])"
   ]
  },
  {
   "cell_type": "markdown",
   "metadata": {},
   "source": [
    "### Pipeline definition\n",
    "\n",
    "Mail Kim Smeenk, 18-09-2019 11:39: Attached you can find my explanation for which pipeline I have chosen. It is: **3N 2019 9 SVM TFIDF quotes removed**"
   ]
  },
  {
   "cell_type": "code",
   "execution_count": 6,
   "metadata": {},
   "outputs": [
    {
     "data": {
      "text/plain": [
       "['svm', 'nb']"
      ]
     },
     "execution_count": 6,
     "metadata": {},
     "output_type": "execute_result"
    }
   ],
   "source": [
    "[p.display_title for p in Pipeline.objects.all()]"
   ]
  },
  {
   "cell_type": "code",
   "execution_count": 7,
   "metadata": {},
   "outputs": [
    {
     "data": {
      "text/plain": [
       "Pipeline(data_source=[DataSource id: 5e3d73c15650277fab0f9455], stop_words=None, _id=ObjectId('5e3d73d45650277fab0f9456'), nlp_tool=TFIDF(parameters=Parameters(scaling=True), _tag='tfidf'), lemmatization=False, display_title='svm', sk_pipeline=<newsgac.common.fields.WrappedObject object at 0x7f8531dbf9b0>, updated=datetime.datetime(2020, 2, 7, 14, 27, 35, 434000), task=TrackedTask(end=datetime.datetime(2020, 2, 7, 14, 27, 35, 434000), start=datetime.datetime(2020, 2, 7, 14, 27, 34, 476000), task_id='5c5f5b1c-3ec0-4acb-95b8-5cf300576d02', status=<Status.SUCCESS: 'SUCCESS'>), result=Result(fmeasure_micro=18.27, precision_macro=12.08, fmeasure_weighted=18.97, recall_weighted=18.27, std=10.2, confusion_matrix=<newsgac.common.fields.WrappedObject object at 0x7f8531dbf668>, recall_macro=10.11, cohens_kappa=8.42, accuracy=18.11, recall_micro=18.27, precision_weighted=20.81, precision_micro=18.27, fmeasure_macro=10.74), user=User(updated=datetime.datetime(2020, 2, 7, 14, 26, 39, 945000), name='Erik', password='$pbkdf2-sha512$25000$UaoVwnjPOUfo3Vtrba21dg$0/819Ydb0echR4eonC/d.1luZUbdg8Aiaw1vKuJ4ET3NvZHtAWtgOpG5Q4fmtioPlpIf8uLpPtLjamPIkekBcg', email='e.tjongkimsang@esciencecenter.nl', created=datetime.datetime(2020, 2, 7, 14, 26, 39, 945000), surname='TKS'), created=datetime.datetime(2020, 2, 7, 14, 27, 32, 48000), lowercase=False, learner=LearnerSVC(parameters=Parameters(kernel='linear', random_state=42, penalty_parameter_c=1.0, gamma=1.0), _tag='svc'), quote_removal=True)"
      ]
     },
     "execution_count": 7,
     "metadata": {},
     "output_type": "execute_result"
    }
   ],
   "source": [
    "p = Pipeline.objects.first()\n",
    "p"
   ]
  },
  {
   "cell_type": "code",
   "execution_count": 8,
   "metadata": {},
   "outputs": [],
   "source": [
    "skp = p.sk_pipeline.get()"
   ]
  },
  {
   "cell_type": "code",
   "execution_count": 9,
   "metadata": {},
   "outputs": [
    {
     "data": {
      "text/plain": [
       "array([ 2, 18,  6, 10, 13, 18,  2,  5, 13, 10, 10,  3,  5, 13, 14, 13, 13,\n",
       "       10,  2, 10,  1,  1, 13,  1, 15,  5,  5,  1, 13,  5, 15,  2, 13, 10,\n",
       "       15,  1,  1,  2,  0,  2, 15, 12, 10,  2, 10,  1,  5,  5, 16,  5, 10,\n",
       "        6, 18, 10,  9, 15, 17, 18,  4, 16,  6,  5,  3,  8,  2,  7, 10,  2,\n",
       "        2,  5,  2,  5, 15,  0,  5, 15,  1,  2,  2, 18, 11,  7,  1, 18, 12,\n",
       "       10,  2, 16, 15,  2,  5, 10,  3])"
      ]
     },
     "execution_count": 9,
     "metadata": {},
     "output_type": "execute_result"
    }
   ],
   "source": [
    "predictions = skp.predict(articles)\n",
    "predictions"
   ]
  },
  {
   "cell_type": "code",
   "execution_count": 10,
   "metadata": {},
   "outputs": [
    {
     "name": "stdout",
     "output_type": "stream",
     "text": [
      "0.8936170212765957\n"
     ]
    }
   ],
   "source": [
    "correct = 0\n",
    "for i in range(0,len(predictions)):\n",
    "    if predictions[i] == labels[i]: correct += 1\n",
    "print(correct/(len(labels)+1))"
   ]
  },
  {
   "cell_type": "code",
   "execution_count": 13,
   "metadata": {},
   "outputs": [
    {
     "ename": "SystemError",
     "evalue": "unknown opcode",
     "output_type": "error",
     "traceback": [
      "\u001b[0;31m---------------------------------------------------------------------------\u001b[0m",
      "\u001b[0;31mSystemError\u001b[0m                               Traceback (most recent call last)",
      "\u001b[0;32m<ipython-input-13-d31a0b30400a>\u001b[0m in \u001b[0;36m<module>\u001b[0;34m\u001b[0m\n\u001b[0;32m----> 1\u001b[0;31m \u001b[0mskp\u001b[0m\u001b[0;34m.\u001b[0m\u001b[0mnamed_steps\u001b[0m\u001b[0;34m[\u001b[0m\u001b[0;34m'FeatureExtraction'\u001b[0m\u001b[0;34m]\u001b[0m\u001b[0;34m.\u001b[0m\u001b[0mget_feature_names\u001b[0m\u001b[0;34m(\u001b[0m\u001b[0;34m)\u001b[0m\u001b[0;34m\u001b[0m\u001b[0;34m\u001b[0m\u001b[0m\n\u001b[0m",
      "\u001b[0;32m~/anaconda3/envs/python/lib/python3.6/site-packages/sklearn/pipeline.py\u001b[0m in \u001b[0;36mget_feature_names\u001b[0;34m(self)\u001b[0m\n\u001b[1;32m    866\u001b[0m                                      % (str(name), type(trans).__name__))\n\u001b[1;32m    867\u001b[0m             feature_names.extend([name + \"__\" + f for f in\n\u001b[0;32m--> 868\u001b[0;31m                                   trans.get_feature_names()])\n\u001b[0m\u001b[1;32m    869\u001b[0m         \u001b[0;32mreturn\u001b[0m \u001b[0mfeature_names\u001b[0m\u001b[0;34m\u001b[0m\u001b[0;34m\u001b[0m\u001b[0m\n\u001b[1;32m    870\u001b[0m \u001b[0;34m\u001b[0m\u001b[0m\n",
      "\u001b[0;32m~/anaconda3/envs/python/lib/python3.6/site-packages/sklearn/feature_extraction/text.py\u001b[0m in \u001b[0;36mget_feature_names\u001b[0;34m(self)\u001b[0m\n\u001b[1;32m   1150\u001b[0m             \u001b[0mself\u001b[0m\u001b[0;34m.\u001b[0m\u001b[0m_validate_vocabulary\u001b[0m\u001b[0;34m(\u001b[0m\u001b[0;34m)\u001b[0m\u001b[0;34m\u001b[0m\u001b[0;34m\u001b[0m\u001b[0m\n\u001b[1;32m   1151\u001b[0m \u001b[0;34m\u001b[0m\u001b[0m\n\u001b[0;32m-> 1152\u001b[0;31m         \u001b[0mself\u001b[0m\u001b[0;34m.\u001b[0m\u001b[0m_check_vocabulary\u001b[0m\u001b[0;34m(\u001b[0m\u001b[0;34m)\u001b[0m\u001b[0;34m\u001b[0m\u001b[0;34m\u001b[0m\u001b[0m\n\u001b[0m\u001b[1;32m   1153\u001b[0m \u001b[0;34m\u001b[0m\u001b[0m\n\u001b[1;32m   1154\u001b[0m         return [t for t, i in sorted(self.vocabulary_.items(),\n",
      "\u001b[0;31mSystemError\u001b[0m: unknown opcode"
     ]
    }
   ],
   "source": [
    "skp.named_steps['FeatureExtraction'].get_feature_names()"
   ]
  },
  {
   "cell_type": "code",
   "execution_count": 23,
   "metadata": {},
   "outputs": [
    {
     "data": {
      "text/plain": [
       "array([ 0,  1,  2,  3,  4,  5,  6,  7,  8,  9, 10, 11, 12, 13, 14, 15, 16,\n",
       "       17, 18])"
      ]
     },
     "execution_count": 23,
     "metadata": {},
     "output_type": "execute_result"
    }
   ],
   "source": [
    "skp.classes_"
   ]
  },
  {
   "cell_type": "code",
   "execution_count": null,
   "metadata": {},
   "outputs": [],
   "source": []
  }
 ],
 "metadata": {
  "kernelspec": {
   "display_name": "Python 3",
   "language": "python",
   "name": "python3"
  },
  "language_info": {
   "codemirror_mode": {
    "name": "ipython",
    "version": 3
   },
   "file_extension": ".py",
   "mimetype": "text/x-python",
   "name": "python",
   "nbconvert_exporter": "python",
   "pygments_lexer": "ipython3",
   "version": "3.6.7"
  }
 },
 "nbformat": 4,
 "nbformat_minor": 4
}
