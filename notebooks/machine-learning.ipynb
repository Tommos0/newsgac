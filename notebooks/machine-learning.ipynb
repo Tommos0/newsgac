{
 "cells": [
  {
   "cell_type": "markdown",
   "metadata": {},
   "source": [
    "## Best machine learning applied to decades of newspaper articles \n",
    "\n",
    "Source: newsgac/ace/tasks.py explain_article_lime_task_impl()"
   ]
  },
  {
   "cell_type": "markdown",
   "metadata": {},
   "source": [
    "First load necessary Python libraries:"
   ]
  },
  {
   "cell_type": "code",
   "execution_count": 1,
   "metadata": {},
   "outputs": [
    {
     "name": "stdout",
     "output_type": "stream",
     "text": [
      "WARNING:newsgac.config:Loading environment variables from \".env\" file.\n",
      "WARNING:newsgac.config:No secret key found, using default. THIS IS BAD IN PRODUCTION.\n"
     ]
    },
    {
     "name": "stderr",
     "output_type": "stream",
     "text": [
      "/home/erikt/anaconda3/envs/python/lib/python3.6/site-packages/dotenv/main.py:52: UserWarning: File doesn't exist \n",
      "  warnings.warn(\"File doesn't exist {}\".format(self.dotenv_path))  # type: ignore\n"
     ]
    }
   ],
   "source": [
    "from newsgac import config\n",
    "from newsgac import database\n",
    "from newsgac.data_sources import DataSource\n",
    "from newsgac.pipelines import Pipeline"
   ]
  },
  {
   "cell_type": "markdown",
   "metadata": {},
   "source": [
    "### Data set\n",
    "\n",
    "Next: load the test data set:"
   ]
  },
  {
   "cell_type": "code",
   "execution_count": 66,
   "metadata": {},
   "outputs": [
    {
     "data": {
      "text/plain": [
       "['newsgac TRAIN 9 genres', 'newsgac TEST 9 genres', 'newsgac ALL 9 genres']"
      ]
     },
     "execution_count": 66,
     "metadata": {},
     "output_type": "execute_result"
    }
   ],
   "source": [
    "[d.display_title for d in DataSource.objects.all()]"
   ]
  },
  {
   "cell_type": "code",
   "execution_count": 67,
   "metadata": {},
   "outputs": [
    {
     "name": "stdout",
     "output_type": "stream",
     "text": [
      "3 WEEKBERICHT GRANEN AMSTERDAM . 2 januari . Granen . Het meest belangwekkende van de afgelopen korte verslagperiode is geweest de . zeer sterke stijging van de vrachtenmarkt voor spoedige afladingen van de US Gulfhavens . rierdoor is N-Amerikaans-e mais op de januari aflading de laatste twee dagen van het jaar belangrijk in prijs opgelopen , waarbij grote omzetten tot stand kwamen . Voor N-Amerikaanse mais op de zomerafladingen had de markt een rustig verloop , met enkelp zaken op een nauwelijks veranderd prijsniveau . N-Amerikaanse grain sorghum op januari aflading werd eveneens beïnvloed door de vrachtenmarkt en kon vrij -sterk in prijs monteren . Ook de stomende posities konden in prijs verbeteren , zij het in mindere mate . Daarentegen lag de zomeraflading nieuwe oogst zeer zwak in de markt , waardoor in dze positie transacties werden afgesloten tegen dagelijks lagere orijzen . In N-Amerikaanse gerst konden enkele postjes februari aflading van eigenaar verwisselen tegen vrijwel onveranderde , prijzen . Platabaver Is nogal sterk in prijs gedaald en kon op het lagere prijsniveau vrij regelmatig wat kopers vinden . De prijzen voor rogge waren in de cif sector vrijwel onveranderd , terwijl die in de boordvrijsector iets verbeterden .\n"
     ]
    }
   ],
   "source": [
    "data_source = DataSource.objects[1]\n",
    "print(data_source.articles[0].label,data_source.articles[0].raw_text)"
   ]
  },
  {
   "cell_type": "code",
   "execution_count": 68,
   "metadata": {},
   "outputs": [],
   "source": [
    "articles = [article.raw_text for article in data_source.articles]\n",
    "labels = [article.label for article in data_source.articles]"
   ]
  },
  {
   "cell_type": "code",
   "execution_count": 69,
   "metadata": {},
   "outputs": [
    {
     "name": "stdout",
     "output_type": "stream",
     "text": [
      "3 Stichting Noordzee Mijnbouw opgericht Met het doel te bevorderen , dat werkzaamheden welke mogelijke concessionarissen willen laten verrichten in verband met exploratie , winning en het transport van olie en gas , in het bijzonder met betrekking tot het continentale plat van de Noordzee , zoveel mogelijk door Nederlandse ondernemingen zullen worden verricht , is opgericht de Stichting Noordzee Mijnbouw . Het initiatief tot de oprichting van deze stichting werd genomen door Scheepsbouwbelangen NV , een groepering van een achttal vooraanstaande Nederlandse scheepswerven , de Algemene Bank Nederland , de Amsterdam-Rotterdam Bank cn de Nationale Investeringsbank ( Herstelbank ) . Voorzitter van het bestuur van de Stichting is prof. dr. J. Zijlstra , oudminister van economische zaken en van financiën , directeur is de heer R. Ph. Keegstra . Aan de Stichting werd inmiddels uitbreiding gegeven door de deelneming van groeperingen van geïnteresseerde Nederlandse ondernemingen . Ter verkrijg ' van wetenschappelijke en technische steun van Nederlandse instellingen van wetenschap en onderzoek is de Niverheidsorganisatie TNO in de nersoon van prof. ir. L. Troost , ook in \" het bestuur toegetreden . Na de oprichting , welke 22 september jl. heeft plaatsgehad , heeft het stichtingsbestuur zich na enige tijd van voorbereiding gepresenteerd bij de minister van economische zaken .\n"
     ]
    }
   ],
   "source": [
    "print(labels[1],articles[1])"
   ]
  },
  {
   "cell_type": "markdown",
   "metadata": {},
   "source": [
    "### Pipeline definition\n",
    "\n",
    "Mail Kim Smeenk, 18-09-2019 11:39: Attached you can find my explanation for which pipeline I have chosen. It is: **3N 2019 9 SVM TFIDF quotes removed**"
   ]
  },
  {
   "cell_type": "code",
   "execution_count": 60,
   "metadata": {},
   "outputs": [
    {
     "data": {
      "text/plain": [
       "['newsgac TRAIN svm', 'newsgac ALL svm']"
      ]
     },
     "execution_count": 60,
     "metadata": {},
     "output_type": "execute_result"
    }
   ],
   "source": [
    "[p.display_title for p in Pipeline.objects.all()]"
   ]
  },
  {
   "cell_type": "code",
   "execution_count": 63,
   "metadata": {},
   "outputs": [
    {
     "data": {
      "text/plain": [
       "('newsgac ALL svm',\n",
       " Pipeline(created=datetime.datetime(2020, 2, 17, 13, 25, 45, 14000), user=User(name='Erik', password='$pbkdf2-sha512$25000$nbPWulcKwXjvfS.FEKJUyg$XzAA0I9OCmZ1cH70wIIwy9CaUhQBCFaUYw/stFiTqxaRMw9fqT4JzCrmhBOFVyOpdCsTv.oVIoksJmcBBeUI0Q', created=datetime.datetime(2020, 2, 16, 15, 46, 23, 243000), surname='TKS', updated=datetime.datetime(2020, 2, 16, 15, 46, 23, 243000), email='e.tjongkimsang@esciencecenter.nl'), nlp_tool=TFIDF(_tag='tfidf', parameters=Parameters(scaling=True)), result=Result(precision_macro=52.79, confusion_matrix=<newsgac.common.fields.WrappedObject object at 0x7f37d9c105c0>, fmeasure_weighted=69.19, fmeasure_macro=52.5, recall_micro=68.58, cohens_kappa=57.44, precision_micro=68.58, precision_weighted=71.14, recall_weighted=68.58, recall_macro=53.3, std=2.51, accuracy=68.58, fmeasure_micro=68.58), lowercase=False, quote_removal=True, data_source=[DataSource id: 5e4a9374f520038bdfc0594c], display_title='newsgac ALL svm', stop_words=None, _id=ObjectId('5e4a9459f520038bdfc0594d'), updated=datetime.datetime(2020, 2, 17, 15, 56, 54, 937000), sk_pipeline=<newsgac.common.fields.WrappedObject object at 0x7f37d9c10b38>, learner=LearnerSVC(_tag='svc', parameters=Parameters(gamma=1.0, penalty_parameter_c=1.0, random_state=42, kernel='linear')), task=TrackedTask(task_id='a2b3df72-824b-45d9-8f54-ba79ce2fc7bf', end=datetime.datetime(2020, 2, 17, 15, 56, 54, 937000), start=datetime.datetime(2020, 2, 17, 13, 25, 47, 402000), status=<Status.SUCCESS: 'SUCCESS'>), lemmatization=False))"
      ]
     },
     "execution_count": 63,
     "metadata": {},
     "output_type": "execute_result"
    }
   ],
   "source": [
    "SELECTEDPIPELINE=1\n",
    "p = Pipeline.objects[SELECTEDPIPELINE]\n",
    "p.display_title,p"
   ]
  },
  {
   "cell_type": "code",
   "execution_count": 64,
   "metadata": {},
   "outputs": [],
   "source": [
    "skp = p.sk_pipeline.get()"
   ]
  },
  {
   "cell_type": "code",
   "execution_count": 70,
   "metadata": {},
   "outputs": [
    {
     "data": {
      "text/plain": [
       "array([3, 3, 3, 3, 7, 0, 7, 7, 3, 7, 1, 0, 7, 5, 5, 5, 5, 5, 5, 5, 2, 0,\n",
       "       1, 6, 3, 3, 8, 3, 3, 3, 3, 3, 7, 3, 3, 8, 7, 7, 1, 7, 1, 7, 7, 1,\n",
       "       7, 5, 5, 3, 7, 6, 3, 3, 7, 7, 0, 3, 3, 7, 3, 3, 3, 3, 3, 4, 0, 4,\n",
       "       3, 4, 3, 3, 4, 3, 3, 7, 3, 3, 3, 0, 0, 7, 8, 3, 3, 3, 3, 3, 5, 5,\n",
       "       5, 5, 5, 5, 3, 3, 7, 3, 3, 3, 3, 3, 7, 3, 3, 3, 3, 4, 7, 7, 3, 7,\n",
       "       5, 0, 7, 3, 3, 3, 0, 0, 3, 3, 6, 5, 3, 3, 3, 3, 1, 7, 5, 5, 5, 5,\n",
       "       5, 5, 7, 1, 5, 1, 7, 7, 7, 7, 5, 7, 5, 3, 0, 3, 6, 3, 7, 3, 0, 3,\n",
       "       3, 3, 7, 3, 3, 3, 3, 3, 7, 0, 0, 2, 3, 7, 0, 7, 3, 7, 0, 0, 7, 8,\n",
       "       2, 3, 3, 3, 7, 8, 0, 7, 3, 8, 7, 8, 7, 8, 3, 7, 3, 8, 8, 6, 2, 3,\n",
       "       7, 3, 7, 7, 7, 7, 8, 3, 7, 7, 7, 7, 7, 7, 3, 7, 0, 7, 7, 3, 4, 3,\n",
       "       3, 3, 3, 1, 0, 7, 7, 3, 3, 4, 7, 3, 3, 6, 7, 3, 3, 0, 1, 3, 3, 3,\n",
       "       3, 3, 3, 3, 4, 3, 3, 3, 3, 3, 3, 3, 0, 0, 3, 7, 7, 3, 7, 7, 7, 7,\n",
       "       7, 7, 7, 0, 8, 5, 5, 5, 5, 5, 3, 3, 3, 3, 3, 3, 6, 6, 3, 3, 3, 3,\n",
       "       8, 8, 3, 8, 8, 3, 7, 7, 2, 7, 7, 7, 7, 7, 7, 7, 7, 7, 3, 0, 7, 0,\n",
       "       7, 6, 0, 7, 0, 3, 3, 3, 3, 3, 7, 0, 7, 7, 7, 0, 3, 3, 0, 3, 3, 7,\n",
       "       3, 7, 3, 3, 7, 3, 3, 3, 3, 3, 3, 0, 4, 0, 3, 3, 7, 3, 4, 8, 2, 5,\n",
       "       5, 5, 5, 5, 5, 5, 2, 3, 3, 2, 7, 6, 0, 5, 5, 0, 3, 3, 3, 0, 8, 3,\n",
       "       0, 2, 7, 8, 2, 3, 3, 3, 0, 6, 3, 0, 0, 0, 0, 2, 3, 3, 0, 3, 7, 0,\n",
       "       1, 7, 7, 0, 7, 0, 0, 3, 0, 0, 3, 0, 3, 7, 0, 0, 7, 0, 0, 7, 3, 7,\n",
       "       7, 1, 0, 6, 7, 2, 7, 1, 1, 4, 6, 2, 6, 0, 5, 5, 5, 7, 8, 8, 0, 8,\n",
       "       0, 0, 3, 1, 7, 4, 6, 3, 0, 7, 0, 0, 0, 0, 0, 0, 0, 0, 3, 0, 7, 0,\n",
       "       0, 8, 0, 6, 3, 0, 3, 0, 5, 0, 5, 5, 5, 5, 5, 5, 5, 8, 5, 3, 4, 1,\n",
       "       4, 7, 7, 4, 4, 4, 7, 7, 4, 4, 0, 2, 0, 0, 0, 6, 1, 0, 0, 3, 0, 3,\n",
       "       3, 0, 7, 7, 0, 3, 3, 3, 1, 0, 2, 1, 0, 0, 2, 1, 5, 6, 3, 0, 7, 7,\n",
       "       7, 3, 7, 3, 7, 7, 7, 3, 7, 7, 2, 2, 7, 7, 5, 7, 5, 5, 3, 3, 1, 2,\n",
       "       3, 3, 7, 3, 3, 2, 3, 3, 3, 4, 4, 0, 7, 3, 3, 1, 3, 3, 3, 3, 3, 0,\n",
       "       8, 3, 3, 2, 3, 3, 3, 3, 3, 5, 5, 5, 0, 8, 0, 0, 0, 4, 3, 7, 2, 3,\n",
       "       0, 3, 0, 7, 7, 0, 3, 0, 4, 0, 3, 0, 0, 2, 3, 8, 3, 0, 3, 2, 7, 7,\n",
       "       3, 0, 0, 0, 3, 3, 3, 7, 0, 3, 7, 7, 3, 3, 2, 2, 1, 3, 2, 4, 2, 7,\n",
       "       2, 4, 4, 3, 8, 0, 3, 3, 3, 3, 3, 3, 0, 3, 3, 3, 3, 3, 6, 3, 1, 7,\n",
       "       1, 0, 3, 0, 3, 3, 1, 3, 3, 3, 3, 3, 3, 0, 0, 0, 0, 0, 0, 7, 0, 0,\n",
       "       0, 0, 0, 0, 0, 7, 0, 6, 0, 3, 0, 2, 3, 7, 3, 0, 2, 7, 3, 3, 3, 0,\n",
       "       3, 0, 3, 3, 3, 1, 3, 3, 3, 3, 0, 7, 0, 3, 5, 5, 5, 5, 2, 2, 3, 3,\n",
       "       3, 3, 0, 3, 6, 2, 6, 0, 4, 4, 5, 3, 3, 3, 0, 0, 3, 7, 3, 7, 5, 4,\n",
       "       4, 4, 7, 7, 4, 7, 0, 7, 1, 1, 7, 5, 7, 5, 3, 3, 0, 0, 0, 0, 3, 0,\n",
       "       3, 0, 3, 0, 1, 4, 3, 3, 0, 3, 4, 1, 1, 5, 2, 0, 5, 2, 0, 3, 3, 0,\n",
       "       3, 4, 4, 0, 0, 7, 3, 3, 3, 3, 3, 3, 8, 0, 0, 3, 3, 0, 3, 0, 3, 0,\n",
       "       3, 2, 2, 3, 7, 3, 3, 3, 0, 3, 1, 8, 3, 3, 3, 3, 3, 3, 1, 7, 7, 1,\n",
       "       8, 1, 7, 7, 1, 7, 7, 0, 0, 0, 3, 3, 3, 0, 0, 3, 2, 1, 6, 5, 6, 0,\n",
       "       3, 0, 3, 3, 3, 3, 0, 7, 3, 3, 3, 3, 0, 3, 6, 5, 1, 7, 5, 5, 5, 5,\n",
       "       5, 5, 3, 3, 3, 1, 3, 0, 8, 3, 3, 1, 2, 5, 2, 7, 1, 0, 0, 1, 7, 5,\n",
       "       1, 1, 5, 2, 7, 7, 7, 7, 4, 0, 3, 0, 0])"
      ]
     },
     "execution_count": 70,
     "metadata": {},
     "output_type": "execute_result"
    }
   ],
   "source": [
    "predictions = skp.predict(articles)\n",
    "predictions"
   ]
  },
  {
   "cell_type": "code",
   "execution_count": 71,
   "metadata": {},
   "outputs": [
    {
     "name": "stdout",
     "output_type": "stream",
     "text": [
      "0.8830601092896175\n"
     ]
    }
   ],
   "source": [
    "correct = 0\n",
    "for i in range(0,len(predictions)):\n",
    "    if predictions[i] == labels[i]: correct += 1\n",
    "print(correct/len(labels))"
   ]
  },
  {
   "cell_type": "markdown",
   "metadata": {},
   "source": [
    "### Process bulk data"
   ]
  },
  {
   "cell_type": "code",
   "execution_count": 77,
   "metadata": {},
   "outputs": [],
   "source": [
    "import csv\n",
    "import gzip\n",
    "import os\n",
    "import re\n",
    "\n",
    "COLUMNSEP = \"\\t\"\n",
    "ARTICLECOLUMNID = 4\n",
    "DATECOLUMNID = 3\n",
    "IDCOLUMNID = 0\n",
    "DATE = \"date\"\n",
    "ID = \"id\"\n",
    "LABEL = \"label\"\n",
    "DATADIR = \"/home/erikt/projects/newsgac/data-large\"\n",
    "\n",
    "def makeFileName(dataDir,newspaper,year):\n",
    "    return(dataDir+\"/\"+newspaper+\"/\"+newspaper+\"-\"+str(year)+\".txt.gz\")\n",
    "\n",
    "def readLinesFromFile(fileName):\n",
    "    lines = []\n",
    "    inFile = gzip.open(makeFileName(DATADIR,NEWSPAPER,YEAR),\"rb\")\n",
    "    for line in inFile: lines.append(line.decode(\"utf-8\"))\n",
    "    inFile.close()\n",
    "    return(lines)\n",
    "\n",
    "def getArticlesFromLines(lines):\n",
    "    return([line.split(COLUMNSEP)[ARTICLECOLUMNID] for line in lines])\n",
    "\n",
    "def getDatesFromLines(lines):\n",
    "    return([re.sub(\"DATE=\",\"\",line.split(COLUMNSEP)[DATECOLUMNID]) for line in lines])\n",
    "\n",
    "def getIdsFromLines(lines):\n",
    "    return([line.split(COLUMNSEP)[IDCOLUMNID] for line in lines])\n",
    "\n",
    "def saveLabels(fileName,labels,dates,ids,genreNames):\n",
    "    with open(fileName+'.out.csv', 'w') as csvfile:\n",
    "        csvwriter = csv.DictWriter(csvfile, fieldnames=[ID,DATE,LABEL])\n",
    "        csvwriter.writeheader()\n",
    "        for i in range(0,len(labels)):\n",
    "            csvwriter.writerow({ID:ids[i],DATE:dates[i],LABEL:genreNames[labels[i]]})\n",
    "        csvfile.close()"
   ]
  },
  {
   "cell_type": "code",
   "execution_count": 79,
   "metadata": {},
   "outputs": [],
   "source": [
    "NEWSPAPER = \"volkskrant\"\n",
    "YEARSTART = 1955\n",
    "YEAREND = 1956\n",
    "\n",
    "os.chdir(DATADIR+\"/\"+NEWSPAPER)\n",
    "genreNames = DataSource.objects[0].labels\n",
    "\n",
    "for year in range(YEARSTART,YEAREND+1):\n",
    "    fileName = makeFileName(DATADIR,NEWSPAPER,year)\n",
    "    lines = readLinesFromFile(fileName)\n",
    "    articles = getArticlesFromLines(lines)\n",
    "    dates = getDatesFromLines(lines)\n",
    "    ids = getIdsFromLines(lines)\n",
    "    labels = skp.predict(articles)\n",
    "    saveLabels(fileName,labels,dates,ids,genreNames)"
   ]
  },
  {
   "cell_type": "markdown",
   "metadata": {},
   "source": [
    "We assume that test text processing is performed automatically by the pipeline"
   ]
  },
  {
   "cell_type": "code",
   "execution_count": 76,
   "metadata": {},
   "outputs": [
    {
     "data": {
      "text/plain": [
       "('newsgac ALL 9 genres',\n",
       " Pipeline(created=datetime.datetime(2020, 2, 17, 13, 25, 45, 14000), user=User(name='Erik', password='$pbkdf2-sha512$25000$nbPWulcKwXjvfS.FEKJUyg$XzAA0I9OCmZ1cH70wIIwy9CaUhQBCFaUYw/stFiTqxaRMw9fqT4JzCrmhBOFVyOpdCsTv.oVIoksJmcBBeUI0Q', created=datetime.datetime(2020, 2, 16, 15, 46, 23, 243000), surname='TKS', updated=datetime.datetime(2020, 2, 16, 15, 46, 23, 243000), email='e.tjongkimsang@esciencecenter.nl'), nlp_tool=TFIDF(_tag='tfidf', parameters=Parameters(scaling=True)), result=Result(precision_macro=52.79, confusion_matrix=<newsgac.common.fields.WrappedObject object at 0x7f37d9c105c0>, fmeasure_weighted=69.19, fmeasure_macro=52.5, recall_micro=68.58, cohens_kappa=57.44, precision_micro=68.58, precision_weighted=71.14, recall_weighted=68.58, recall_macro=53.3, std=2.51, accuracy=68.58, fmeasure_micro=68.58), lowercase=False, quote_removal=True, data_source=[DataSource id: 5e4a9374f520038bdfc0594c], display_title='newsgac ALL svm', stop_words=None, _id=ObjectId('5e4a9459f520038bdfc0594d'), updated=datetime.datetime(2020, 2, 17, 15, 56, 54, 937000), sk_pipeline=<newsgac.common.fields.WrappedObject object at 0x7f37d9c10b38>, learner=LearnerSVC(_tag='svc', parameters=Parameters(gamma=1.0, penalty_parameter_c=1.0, random_state=42, kernel='linear')), task=TrackedTask(task_id='a2b3df72-824b-45d9-8f54-ba79ce2fc7bf', end=datetime.datetime(2020, 2, 17, 15, 56, 54, 937000), start=datetime.datetime(2020, 2, 17, 13, 25, 47, 402000), status=<Status.SUCCESS: 'SUCCESS'>), lemmatization=False),\n",
       " Pipeline(memory=None,\n",
       "          steps=[('CleanOCR',\n",
       "                  <newsgac.nlp_tools.transformers.CleanOCR object at 0x7f37d9c00828>),\n",
       "                 ('FeatureExtraction',\n",
       "                  FeatureUnion(n_jobs=None,\n",
       "                               transformer_list=[('TFIDF',\n",
       "                                                  Pipeline(memory=None,\n",
       "                                                           steps=[('RemoveQuotes',\n",
       "                                                                   <newsgac.nlp_tools.transformers.RemoveQuotes object at 0x7f37d975e2e8>),\n",
       "                                                                  ('TF-IDF',\n",
       "                                                                   TfidfVectorizer(analyzer='word',\n",
       "                                                                                   binary=False,\n",
       "                                                                                   deco...\n",
       "                               transformer_weights=None, verbose=False)),\n",
       "                 ('RobustScaler',\n",
       "                  RobustScaler(copy=True, quantile_range=(25.0, 75.0),\n",
       "                               with_centering=False, with_scaling=True)),\n",
       "                 ('Classifier',\n",
       "                  SVC(C=1.0, cache_size=200, class_weight='balanced', coef0=0.0,\n",
       "                      decision_function_shape='ovr', degree=3, gamma=1.0,\n",
       "                      kernel='linear', max_iter=-1, probability=True,\n",
       "                      random_state=42, shrinking=True, tol=0.001,\n",
       "                      verbose=False))],\n",
       "          verbose=False))"
      ]
     },
     "execution_count": 76,
     "metadata": {},
     "output_type": "execute_result"
    }
   ],
   "source": [
    "p.data_source.display_title,p,skp"
   ]
  },
  {
   "cell_type": "code",
   "execution_count": null,
   "metadata": {},
   "outputs": [],
   "source": []
  }
 ],
 "metadata": {
  "kernelspec": {
   "display_name": "Python 3",
   "language": "python",
   "name": "python3"
  },
  "language_info": {
   "codemirror_mode": {
    "name": "ipython",
    "version": 3
   },
   "file_extension": ".py",
   "mimetype": "text/x-python",
   "name": "python",
   "nbconvert_exporter": "python",
   "pygments_lexer": "ipython3",
   "version": "3.6.7"
  }
 },
 "nbformat": 4,
 "nbformat_minor": 4
}
